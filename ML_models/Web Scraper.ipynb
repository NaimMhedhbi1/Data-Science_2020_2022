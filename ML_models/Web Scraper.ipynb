{
 "cells": [
  {
   "cell_type": "code",
   "execution_count": 2,
   "metadata": {},
   "outputs": [],
   "source": [
    "import pandas as pd\n",
    "import os\n",
    "import requests\n",
    "import csv\n",
    "import sys\n",
    "import time\n",
    "from bs4 import BeautifulSoup"
   ]
  },
  {
   "cell_type": "code",
   "execution_count": 3,
   "metadata": {},
   "outputs": [],
   "source": [
    "dfs = pd.DataFrame()"
   ]
  },
  {
   "cell_type": "code",
   "execution_count": 4,
   "metadata": {},
   "outputs": [],
   "source": [
    "for page_no in range(1, 237):\n",
    "    \n",
    "    data = {\n",
    "        'page': page_no,\n",
    "        'size': 50\n",
    "    }\n",
    "    page = requests.get('https://paperds.ir/book-publisher-report?', params=data)\n",
    "    soup = BeautifulSoup(page.text, 'html.parser')   \n",
    "    table = soup.find_all('table')\n",
    "    df = pd.read_html(str(table))[0]\n",
    "    dfs = dfs.append(df)"
   ]
  },
  {
   "cell_type": "code",
   "execution_count": 5,
   "metadata": {},
   "outputs": [
    {
     "data": {
      "text/html": [
       "<div>\n",
       "<style scoped>\n",
       "    .dataframe tbody tr th:only-of-type {\n",
       "        vertical-align: middle;\n",
       "    }\n",
       "\n",
       "    .dataframe tbody tr th {\n",
       "        vertical-align: top;\n",
       "    }\n",
       "\n",
       "    .dataframe thead th {\n",
       "        text-align: right;\n",
       "    }\n",
       "</style>\n",
       "<table border=\"1\" class=\"dataframe\">\n",
       "  <thead>\n",
       "    <tr style=\"text-align: right;\">\n",
       "      <th></th>\n",
       "      <th>نام انتشارات</th>\n",
       "      <th>اندازه کاغذ</th>\n",
       "      <th>نوع کاغذ</th>\n",
       "      <th>گرماژ</th>\n",
       "      <th>تعداد بند تخصیص یافته</th>\n",
       "      <th>تاریخ</th>\n",
       "      <th>پرداخت شده؟</th>\n",
       "      <th>ابطال شده؟</th>\n",
       "    </tr>\n",
       "  </thead>\n",
       "  <tbody>\n",
       "    <tr>\n",
       "      <th>0</th>\n",
       "      <td>آرچا</td>\n",
       "      <td>90×60</td>\n",
       "      <td>تحریر</td>\n",
       "      <td>80</td>\n",
       "      <td>13</td>\n",
       "      <td>1398/04/18</td>\n",
       "      <td>بله</td>\n",
       "      <td>خیر</td>\n",
       "    </tr>\n",
       "    <tr>\n",
       "      <th>1</th>\n",
       "      <td>آرچا</td>\n",
       "      <td>100×70</td>\n",
       "      <td>تحریر</td>\n",
       "      <td>80</td>\n",
       "      <td>22</td>\n",
       "      <td>1398/04/18</td>\n",
       "      <td>بله</td>\n",
       "      <td>خیر</td>\n",
       "    </tr>\n",
       "    <tr>\n",
       "      <th>2</th>\n",
       "      <td>ارمغان ادب</td>\n",
       "      <td>100×70</td>\n",
       "      <td>تحریر</td>\n",
       "      <td>70</td>\n",
       "      <td>5</td>\n",
       "      <td>1398/04/18</td>\n",
       "      <td>بله</td>\n",
       "      <td>خیر</td>\n",
       "    </tr>\n",
       "    <tr>\n",
       "      <th>3</th>\n",
       "      <td>انتشارات فرهنگ مردم</td>\n",
       "      <td>100×70</td>\n",
       "      <td>تحریر</td>\n",
       "      <td>80</td>\n",
       "      <td>20</td>\n",
       "      <td>1398/04/18</td>\n",
       "      <td>بله</td>\n",
       "      <td>خیر</td>\n",
       "    </tr>\n",
       "    <tr>\n",
       "      <th>4</th>\n",
       "      <td>انتشارات فرهنگ مردم</td>\n",
       "      <td>100×70</td>\n",
       "      <td>تحریر</td>\n",
       "      <td>70</td>\n",
       "      <td>66</td>\n",
       "      <td>1398/04/18</td>\n",
       "      <td>بله</td>\n",
       "      <td>خیر</td>\n",
       "    </tr>\n",
       "    <tr>\n",
       "      <th>...</th>\n",
       "      <td>...</td>\n",
       "      <td>...</td>\n",
       "      <td>...</td>\n",
       "      <td>...</td>\n",
       "      <td>...</td>\n",
       "      <td>...</td>\n",
       "      <td>...</td>\n",
       "      <td>...</td>\n",
       "    </tr>\n",
       "    <tr>\n",
       "      <th>8</th>\n",
       "      <td>نسیم تحول</td>\n",
       "      <td>100×70</td>\n",
       "      <td>تحریر</td>\n",
       "      <td>70</td>\n",
       "      <td>289</td>\n",
       "      <td>1399/10/01</td>\n",
       "      <td>بله</td>\n",
       "      <td>خیر</td>\n",
       "    </tr>\n",
       "    <tr>\n",
       "      <th>9</th>\n",
       "      <td>نشر نیماژ</td>\n",
       "      <td>90×60</td>\n",
       "      <td>بالک</td>\n",
       "      <td>60</td>\n",
       "      <td>26</td>\n",
       "      <td>1399/10/02</td>\n",
       "      <td>خیر</td>\n",
       "      <td>خیر</td>\n",
       "    </tr>\n",
       "    <tr>\n",
       "      <th>10</th>\n",
       "      <td>بهتاب</td>\n",
       "      <td>100×70</td>\n",
       "      <td>تحریر</td>\n",
       "      <td>70</td>\n",
       "      <td>62</td>\n",
       "      <td>1399/10/03</td>\n",
       "      <td>بله</td>\n",
       "      <td>خیر</td>\n",
       "    </tr>\n",
       "    <tr>\n",
       "      <th>11</th>\n",
       "      <td>انتشارات پیک ادبیات</td>\n",
       "      <td>100×70</td>\n",
       "      <td>تحریر</td>\n",
       "      <td>120</td>\n",
       "      <td>46</td>\n",
       "      <td>1399/10/06</td>\n",
       "      <td>بله</td>\n",
       "      <td>خیر</td>\n",
       "    </tr>\n",
       "    <tr>\n",
       "      <th>12</th>\n",
       "      <td>ناک</td>\n",
       "      <td>100×70</td>\n",
       "      <td>تحریر</td>\n",
       "      <td>120</td>\n",
       "      <td>28</td>\n",
       "      <td>1399/10/06</td>\n",
       "      <td>خیر</td>\n",
       "      <td>خیر</td>\n",
       "    </tr>\n",
       "  </tbody>\n",
       "</table>\n",
       "<p>11763 rows × 8 columns</p>\n",
       "</div>"
      ],
      "text/plain": [
       "           نام انتشارات اندازه کاغذ نوع کاغذ  گرماژ  تعداد بند تخصیص یافته  \\\n",
       "0                  آرچا       90×60    تحریر     80                     13   \n",
       "1                  آرچا      100×70    تحریر     80                     22   \n",
       "2            ارمغان ادب      100×70    تحریر     70                      5   \n",
       "3   انتشارات فرهنگ مردم      100×70    تحریر     80                     20   \n",
       "4   انتشارات فرهنگ مردم      100×70    تحریر     70                     66   \n",
       "..                  ...         ...      ...    ...                    ...   \n",
       "8             نسیم تحول      100×70    تحریر     70                    289   \n",
       "9             نشر نیماژ       90×60     بالک     60                     26   \n",
       "10                بهتاب      100×70    تحریر     70                     62   \n",
       "11  انتشارات پیک ادبیات      100×70    تحریر    120                     46   \n",
       "12                  ناک      100×70    تحریر    120                     28   \n",
       "\n",
       "         تاریخ پرداخت شده؟ ابطال شده؟  \n",
       "0   1398/04/18         بله        خیر  \n",
       "1   1398/04/18         بله        خیر  \n",
       "2   1398/04/18         بله        خیر  \n",
       "3   1398/04/18         بله        خیر  \n",
       "4   1398/04/18         بله        خیر  \n",
       "..         ...         ...        ...  \n",
       "8   1399/10/01         بله        خیر  \n",
       "9   1399/10/02         خیر        خیر  \n",
       "10  1399/10/03         بله        خیر  \n",
       "11  1399/10/06         بله        خیر  \n",
       "12  1399/10/06         خیر        خیر  \n",
       "\n",
       "[11763 rows x 8 columns]"
      ]
     },
     "execution_count": 5,
     "metadata": {},
     "output_type": "execute_result"
    }
   ],
   "source": [
    "dfs"
   ]
  },
  {
   "cell_type": "code",
   "execution_count": 6,
   "metadata": {},
   "outputs": [],
   "source": [
    "dfs.to_excel('PaperSystem.xlsx')"
   ]
  },
  {
   "cell_type": "code",
   "execution_count": 7,
   "metadata": {},
   "outputs": [
    {
     "data": {
      "text/plain": [
       "بله    10927\n",
       "خیر      836\n",
       "Name: پرداخت شده؟, dtype: int64"
      ]
     },
     "execution_count": 7,
     "metadata": {},
     "output_type": "execute_result"
    }
   ],
   "source": [
    "dfs['پرداخت شده؟'].value_counts()"
   ]
  },
  {
   "cell_type": "code",
   "execution_count": 8,
   "metadata": {},
   "outputs": [
    {
     "data": {
      "text/plain": [
       "خیر    10857\n",
       "بله      906\n",
       "Name: ابطال شده؟, dtype: int64"
      ]
     },
     "execution_count": 8,
     "metadata": {},
     "output_type": "execute_result"
    }
   ],
   "source": [
    "dfs['ابطال شده؟'].value_counts()"
   ]
  }
 ],
 "metadata": {
  "kernelspec": {
   "display_name": "Python 3",
   "language": "python",
   "name": "python3"
  },
  "language_info": {
   "codemirror_mode": {
    "name": "ipython",
    "version": 3
   },
   "file_extension": ".py",
   "mimetype": "text/x-python",
   "name": "python",
   "nbconvert_exporter": "python",
   "pygments_lexer": "ipython3",
   "version": "3.7.6"
  }
 },
 "nbformat": 4,
 "nbformat_minor": 4
}
