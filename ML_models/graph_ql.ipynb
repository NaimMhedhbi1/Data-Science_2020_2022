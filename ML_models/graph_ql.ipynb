{
  "nbformat": 4,
  "nbformat_minor": 0,
  "metadata": {
    "kernelspec": {
      "display_name": "Python 3",
      "language": "python",
      "name": "python3"
    },
    "language_info": {
      "codemirror_mode": {
        "name": "ipython",
        "version": 3
      },
      "file_extension": ".py",
      "mimetype": "text/x-python",
      "name": "python",
      "nbconvert_exporter": "python",
      "pygments_lexer": "ipython3",
      "version": "3.8.5"
    },
    "colab": {
      "name": "graph_ql.ipynb",
      "provenance": []
    }
  },
  "cells": [
    {
      "cell_type": "markdown",
      "metadata": {
        "id": "uYEjqvTHBoAI"
      },
      "source": [
        "# Notebook to get public and personnal private data from Sorare API"
      ]
    },
    {
      "cell_type": "code",
      "metadata": {
        "id": "tgIOQmeOBoAK"
      },
      "source": [
        "import requests\n",
        "import json\n",
        "import pandas as pd\n",
        "import multiprocessing"
      ],
      "execution_count": 1,
      "outputs": []
    },
    {
      "cell_type": "code",
      "metadata": {
        "id": "jmVJ5HmjBoAM"
      },
      "source": [
        "# write your request here.\n",
        "\n",
        "query = \"\"\"\n",
        "{\n",
        "    auctions {\n",
        "        nodes {\n",
        "            id\n",
        "            bidsCount\n",
        "            name\n",
        "            creditCardFee\n",
        "            minNextBid\n",
        "        }\n",
        "    }\n",
        "}\n",
        "\"\"\""
      ],
      "execution_count": 2,
      "outputs": []
    },
    {
      "cell_type": "code",
      "metadata": {
        "scrolled": true,
        "id": "lms1txulBoAN"
      },
      "source": [
        "# Test request on Sorare API.\n",
        "\n",
        "url = 'https://api.sorare.com/graphql/'\n",
        "r = requests.post(url, json={'query': query})\n",
        "print('request status:', r.status_code)\n",
        "data = r.json()\n",
        "r.json()"
      ],
      "execution_count": null,
      "outputs": []
    },
    {
      "cell_type": "code",
      "metadata": {
        "scrolled": true,
        "id": "KwcAyl2JBoAO"
      },
      "source": [
        "print(len(data['data']['allCards']['nodes']))\n",
        "for element in data['data']['allCards']['nodes']:\n",
        "    print(element)"
      ],
      "execution_count": null,
      "outputs": []
    },
    {
      "cell_type": "code",
      "metadata": {
        "scrolled": true,
        "id": "JeUXNtf9BoAP"
      },
      "source": [
        "# script to fetch basics data about cards and owners and save it in .xlsx\n",
        "# Please adjust hyperparameters in case processing is too long.\n",
        "\n",
        "import time\n",
        "\n",
        "has_next_page = True\n",
        "count = 1\n",
        "\n",
        "df = pd.DataFrame()\n",
        "card_name = []\n",
        "card_slug = []\n",
        "card_created_at = []\n",
        "card_rarity = []\n",
        "card_position = []\n",
        "card_club = []\n",
        "card_price = []\n",
        "user_name = []\n",
        "user_created_at = []\n",
        "user_slug = []\n",
        "\n",
        "count_no_common = 0\n",
        "\n",
        "while has_next_page:\n",
        "    print(count)\n",
        "    if count == 1:\n",
        "        query = \"\"\"\n",
        "        {\n",
        "          allCards(first: 50) {\n",
        "            pageInfo {\n",
        "              hasNextPage\n",
        "              hasPreviousPage\n",
        "              startCursor\n",
        "              endCursor\n",
        "            }\n",
        "    nodes{\n",
        "    player{\n",
        "        \n",
        "      age\n",
        "      displayName \n",
        "      draftValue\n",
        "      allSo5Scores{nodes{playerGameStats{minsPlayed\n",
        "            so5Score{score}\n",
        "          \n",
        "          game{date\n",
        "          awayGoals\n",
        "          homeGoals\n",
        "          so5Fixture{gameWeek}}}}}}}}}\n",
        "        \"\"\"\n",
        "    else:\n",
        "        query = '''\n",
        "        {\n",
        "          allCards(first: 50 after: \"''' + last_cursor_ + '''\") {\n",
        "            pageInfo {\n",
        "              hasNextPage\n",
        "              hasPreviousPage\n",
        "              startCursor\n",
        "              endCursor\n",
        "            }\n",
        "            nodes {\n",
        "              player{\n",
        "        \n",
        "      age\n",
        "      displayName \n",
        "      draftValue\n",
        "      allSo5Scores{nodes{playerGameStats{minsPlayed\n",
        "            so5Score{score}\n",
        "          \n",
        "          game{date\n",
        "          awayGoals\n",
        "          homeGoals\n",
        "          so5Fixture{gameWeek}}}}}}}}}\n",
        "        '''\n",
        "\n",
        "    url = 'https://api.sorare.com/graphql/'\n",
        "    r = requests.post(url, json={'query': query})\n",
        "    time.sleep(0)\n",
        "    data = r.json()\n",
        "    print(data['data']['allCards']['pageInfo']['hasPreviousPage'])\n",
        "    print(data['data']['allCards']['pageInfo']['hasNextPage'])\n",
        "    last_cursor_ = data['data']['allCards']['pageInfo']['endCursor']\n",
        "    has_next_page = data['data']['allCards']['pageInfo']['hasNextPage']\n",
        "    print(last_cursor_)\n",
        "\n",
        "    for element in data['data']['allCards']['nodes']:\n",
        "\n",
        "        \n",
        "      count_no_common = count_no_common + 1\n",
        "\n",
        "            \n",
        "      try:\n",
        "\n",
        "\n",
        "        player_name.append(element['player'])\n",
        "\n",
        "      except:\n",
        "\n",
        "        user_name.append(None)\n",
        "\n",
        "    count = count + 1\n",
        "    print('count_no_common: ', count_no_common)\n",
        "\n",
        "df['player_name'] = player_name\n"
      ],
      "execution_count": null,
      "outputs": []
    },
    {
      "cell_type": "code",
      "metadata": {
        "scrolled": true,
        "id": "LoOtZ4pzBoAR"
      },
      "source": [
        "df"
      ],
      "execution_count": null,
      "outputs": []
    },
    {
      "cell_type": "code",
      "metadata": {
        "id": "FBs3VQ5tBoAS"
      },
      "source": [
        "# Possible optimization using multiprocessing task (map/reduce operations)..."
      ],
      "execution_count": null,
      "outputs": []
    },
    {
      "cell_type": "markdown",
      "metadata": {
        "id": "vlQAbWmvBoAT"
      },
      "source": [
        "# Get personnal account data"
      ]
    },
    {
      "cell_type": "markdown",
      "metadata": {
        "id": "3T1Pk5wFBoAU"
      },
      "source": [
        "## Prerequisites :\n",
        "- Only working when 2FA is deactivated.\n",
        "- Please wait another upgrade to take into account 2FA."
      ]
    },
    {
      "cell_type": "markdown",
      "metadata": {
        "id": "LPFKG0vhBoAU"
      },
      "source": [
        "## Fill your personnal data in the cell below :"
      ]
    },
    {
      "cell_type": "code",
      "metadata": {
        "id": "CsxLZciEBoAV"
      },
      "source": [
        "my_email = # type your email here\n",
        "my_password = # type your password here"
      ],
      "execution_count": null,
      "outputs": []
    },
    {
      "cell_type": "code",
      "metadata": {
        "scrolled": false,
        "id": "C9q16gvXBoAV"
      },
      "source": [
        "import requests\n",
        "import json\n",
        "\n",
        "url = 'https://api.sorare.com'\n",
        "extension = '/api/v1/users/' + my_email\n",
        "path = url + extension\n",
        "r = requests.get(path)\n",
        "data = r.json()\n",
        "\n",
        "my_salt = data['salt']\n",
        "my_token = r.headers['CSRF-TOKEN']\n",
        "my_cookie = r.headers['Set-Cookie']\n",
        "my_sorare_session = my_cookie.split('_sorare_session_id=')[1].split(';')[0]\n",
        "\n",
        "print('my_salt:', my_salt)\n",
        "print('\\n')\n",
        "print('my_token:', my_token)\n",
        "print('\\n')\n",
        "print('my_cookie:', my_cookie)\n",
        "print('\\n')\n",
        "print('my_sorare_session:', my_sorare_session)"
      ],
      "execution_count": null,
      "outputs": []
    },
    {
      "cell_type": "code",
      "metadata": {
        "id": "wpHHwfN4BoAW"
      },
      "source": [
        "import bcrypt\n",
        "\n",
        "if not isinstance(my_salt, bytes):\n",
        "    my_password = my_password.encode('utf-8')\n",
        "if not isinstance(my_salt, bytes):\n",
        "    my_salt = my_salt.encode('utf-8')\n",
        "\n",
        "# Hash a password for the first time, with a randomly-generated salt\n",
        "hashed = bcrypt.hashpw(my_password, my_salt)\n",
        "# Check that an unhashed password matches one that has previously been\n",
        "# hashed\n",
        "if bcrypt.checkpw(my_password, hashed):\n",
        "    print(\"It Matches!\")\n",
        "else:\n",
        "    print(\"It Does not Match :(\")"
      ],
      "execution_count": null,
      "outputs": []
    },
    {
      "cell_type": "code",
      "metadata": {
        "id": "l22AcR7gBoAX"
      },
      "source": [
        "url = 'https://api.sorare.com'\n",
        "extension = '/users/sign_in.json'\n",
        "path = url + extension\n",
        "my_payload = {\n",
        "    \"user\": {\n",
        "        \"email\": my_email,\n",
        "        \"password\": hashed.decode('utf-8')\n",
        "    }\n",
        "}\n",
        "my_headers = {\n",
        "    'Content-Type': 'application/json; charset=utf-8',\n",
        "    \"X-CSRF-TOKEN\": my_token\n",
        "}\n",
        "my_cookie = {\n",
        "    '_sorare_session': my_sorare_session,\n",
        "}\n",
        "r = requests.post(path, data = json.dumps(my_payload), headers = my_headers, cookies = my_cookie)"
      ],
      "execution_count": null,
      "outputs": []
    },
    {
      "cell_type": "code",
      "metadata": {
        "id": "rdOmmR7nBoAX"
      },
      "source": [
        "my_new_cookie = r.headers['Set-Cookie']\n",
        "my_new_token = r.headers['CSRF-TOKEN']\n",
        "my_etag = r.headers['ETag']\n",
        "my_new_sorare_session = my_new_cookie.split('_sorare_session_id=')[1].split(';')[0]"
      ],
      "execution_count": null,
      "outputs": []
    },
    {
      "cell_type": "code",
      "metadata": {
        "id": "f-FL06olBoAY"
      },
      "source": [
        "r.json()"
      ],
      "execution_count": null,
      "outputs": []
    },
    {
      "cell_type": "code",
      "metadata": {
        "id": "YFpYVmHSBoAY"
      },
      "source": [
        "query = \"\"\"\n",
        "{\n",
        "  currentUser {\n",
        "    availableBalance\n",
        "    availableBalanceForWithdrawal\n",
        "    bankMappedEthereumAddress\n",
        "    bankMappedEthereumAddressApprovedBank\n",
        "    betaTester\n",
        "    blocked {\n",
        "      slug\n",
        "    }\n",
        "    blockedBy {\n",
        "      slug\n",
        "    }\n",
        "    blockedUntil\n",
        "    buyingAuctions {\n",
        "      name\n",
        "      number\n",
        "      open\n",
        "      slug\n",
        "      bidsCount\n",
        "    }\n",
        "    cardCounts {\n",
        "      common\n",
        "      rare\n",
        "      superRare\n",
        "      total\n",
        "      unique\n",
        "    }\n",
        "    cardsCount\n",
        "    createdAt\n",
        "    depositedEth\n",
        "    directOffersSent {\n",
        "      aasmState\n",
        "    }\n",
        "    directOffersReceived {\n",
        "      aasmState\n",
        "    }\n",
        "    draftAvailableFunds\n",
        "    email\n",
        "    ethereumAddress\n",
        "    fiatEnabled\n",
        "    firstName\n",
        "    fromPath\n",
        "    frontChatUserHash\n",
        "    lastName\n",
        "    nickname\n",
        "    onboardingStatus {\n",
        "      enabled\n",
        "      skipped\n",
        "    }\n",
        "    otpProvisioningUri\n",
        "    otpRequiredForLogin\n",
        "    phoneNumber\n",
        "    phoneNumberVerificationRequested\n",
        "    profile {\n",
        "      clubName\n",
        "      discordUsername\n",
        "      rookie\n",
        "      slug\n",
        "      status\n",
        "    }\n",
        "    referee\n",
        "    referrals {\n",
        "      pages\n",
        "      totalCount\n",
        "      referrals {\n",
        "        refereeCardsBoughtAtAuctionCount\n",
        "        refereeConfirmedAt\n",
        "        refereeIdentification\n",
        "        refereeInvitationSentAt\n",
        "      }\n",
        "    }\n",
        "    referrer {\n",
        "      slug\n",
        "    }\n",
        "    slug\n",
        "    sorareAddress\n",
        "    sorareAddressApprovedBank\n",
        "    sorareAddressApprovedBankPending\n",
        "    sorarePrivateKey {\n",
        "      encryptedPrivateKey\n",
        "      iv\n",
        "      salt\n",
        "    }\n",
        "    sorarePrivateKeyRecovery\n",
        "  }\n",
        "}\n",
        "\"\"\"\n",
        "\n",
        "my_headers = {\n",
        "    'Content-Type': 'application/json; charset=utf-8',\n",
        "    \"X-CSRF-TOKEN\": my_new_token,\n",
        "    'ETag': my_etag\n",
        "}\n",
        "my_cookie = {\n",
        "    '_sorare_session': my_new_sorare_session\n",
        "}\n",
        "\n",
        "url = 'https://api.sorare.com/graphql/'\n",
        "r = requests.post(url, json={'query': query}, headers = my_headers, cookies = my_cookie)\n",
        "print(r.status_code)\n",
        "data = r.json()\n",
        "r.json()"
      ],
      "execution_count": null,
      "outputs": []
    },
    {
      "cell_type": "code",
      "metadata": {
        "id": "9vJ0Jo3rBoAZ"
      },
      "source": [
        ""
      ],
      "execution_count": null,
      "outputs": []
    }
  ]
}