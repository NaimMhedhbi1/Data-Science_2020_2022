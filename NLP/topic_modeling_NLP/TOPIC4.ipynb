{
  "nbformat": 4,
  "nbformat_minor": 0,
  "metadata": {
    "colab": {
      "name": "TOPIC4.ipynb",
      "provenance": [],
      "collapsed_sections": []
    },
    "kernelspec": {
      "name": "python3",
      "display_name": "Python 3"
    },
    "language_info": {
      "name": "python"
    }
  },
  "cells": [
    {
      "cell_type": "code",
      "metadata": {
        "colab": {
          "base_uri": "https://localhost:8080/",
          "height": 34
        },
        "id": "5zCKTg-6YmN_",
        "outputId": "31caed2d-8228-411b-f7aa-ac1c4a897a4b"
      },
      "source": [
        "import numpy as np\n",
        "import pandas as pd\n",
        "import os\n",
        "import sys\n",
        "from google.colab import drive\n",
        "import matplotlib.pyplot as plt\n",
        "import math\n",
        "import itertools\n",
        "import random\n",
        "import seaborn as sns\n",
        "# import package\n",
        "import pandas as pd\n",
        "import os\n",
        "import numpy as np\n",
        "import matplotlib.pyplot as plt\n",
        "from sklearn.preprocessing import StandardScaler\n",
        "from scipy.spatial.distance import pdist\n",
        "from scipy.spatial.distance import squareform\n",
        "from scipy.cluster.hierarchy import dendrogram, linkage\n",
        "from scipy.cluster.hierarchy import ward, fcluster, leaders\n",
        "from scipy.cluster import hierarchy\n",
        "from scipy.sparse import csr_matrix\n",
        "import networkx as nx\n",
        "import seaborn as sns\n",
        "import math\n",
        "\n",
        "sc = StandardScaler()\n",
        "\n",
        "sns.set_style(\"ticks\")\n",
        "\n",
        "sns.despine()"
      ],
      "execution_count": 1,
      "outputs": [
        {
          "output_type": "display_data",
          "data": {
            "text/plain": [
              "<Figure size 432x288 with 0 Axes>"
            ]
          },
          "metadata": {}
        }
      ]
    },
    {
      "cell_type": "code",
      "metadata": {
        "colab": {
          "base_uri": "https://localhost:8080/"
        },
        "id": "c0oglvrUZfNb",
        "outputId": "ee2e6e33-296d-4a90-e892-49b356ab7ce1"
      },
      "source": [
        "#mount google colab\n",
        "drive.mount('/content/drive',force_remount = True)"
      ],
      "execution_count": 2,
      "outputs": [
        {
          "output_type": "stream",
          "name": "stdout",
          "text": [
            "Mounted at /content/drive\n"
          ]
        }
      ]
    },
    {
      "cell_type": "code",
      "metadata": {
        "id": "YUGLF7pDZ3sC"
      },
      "source": [
        "\n",
        "# import source data\n",
        "\n",
        "# source data\n",
        "influenceFile = \"/content/drive/MyDrive/Richard_FRL/Project Data/2021_ICM_Problem_D_Data/influence_data.csv\"\n",
        "fullFileRes = \"/content/drive/MyDrive/Richard_FRL/Project Data/2021_ICM_Problem_D_Data/full_music_data.csv\"\n",
        "artistFile = \"/content/drive/MyDrive/Richard_FRL/Project Data/2021_ICM_Problem_D_Data/data_by_artist.csv\"\n",
        "\n",
        "# read data\n",
        "fullData = pd.read_csv(fullFileRes)\n",
        "influenceData = pd.read_csv(influenceFile)\n",
        "artistData = pd.read_csv(artistFile)\n"
      ],
      "execution_count": 3,
      "outputs": []
    },
    {
      "cell_type": "code",
      "metadata": {
        "colab": {
          "base_uri": "https://localhost:8080/"
        },
        "id": "mq2XYV5kakC1",
        "outputId": "9d58937b-2ebc-432a-806f-7b78e02262ed"
      },
      "source": [
        "influenceData.columns"
      ],
      "execution_count": 4,
      "outputs": [
        {
          "output_type": "execute_result",
          "data": {
            "text/plain": [
              "Index(['influencer_id', 'influencer_name', 'influencer_main_genre',\n",
              "       'influencer_active_start', 'follower_id', 'follower_name',\n",
              "       'follower_main_genre', 'follower_active_start'],\n",
              "      dtype='object')"
            ]
          },
          "metadata": {},
          "execution_count": 4
        }
      ]
    },
    {
      "cell_type": "code",
      "metadata": {
        "colab": {
          "base_uri": "https://localhost:8080/"
        },
        "id": "7xtU01ZgabMW",
        "outputId": "9c9c0b6a-738a-4e88-de1d-a49820b91a22"
      },
      "source": [
        "influenceData['influencer_active_start'].value_counts()"
      ],
      "execution_count": 5,
      "outputs": [
        {
          "output_type": "execute_result",
          "data": {
            "text/plain": [
              "1960    12640\n",
              "1970     7996\n",
              "1950     6643\n",
              "1980     6083\n",
              "1990     3646\n",
              "1940     2957\n",
              "1930     2409\n",
              "2000      376\n",
              "2010       20\n",
              "Name: influencer_active_start, dtype: int64"
            ]
          },
          "metadata": {},
          "execution_count": 5
        }
      ]
    },
    {
      "cell_type": "code",
      "metadata": {
        "id": "tj8VHhMgjQZy"
      },
      "source": [
        "active_start = {'1930':1,'1940':2,'1950':3,'1960':4,'1970':5,'1980':6,'1990':7,'2000':8,'2010':9}"
      ],
      "execution_count": 6,
      "outputs": []
    },
    {
      "cell_type": "code",
      "metadata": {
        "id": "P5DhBYf7afBO"
      },
      "source": [
        "\n",
        "# const genre group\n",
        "\n",
        "genre = {'Pop/Rock':0, 'R&B;':1, 'Country':2, 'Jazz':3, 'Vocal':4, 'Latin':5, 'Classical':6, 'Folk':7, 'International':8, 'Blues':9, 'Reggae':10, 'Electronic':11, 'Easy Listening':12, 'Stage & Screen':13, 'Religious': 14, 'Comedy/Spoken':15, 'New Age':16, 'Avant-Garde':17, \"Children's\": 18, 'Unknown': 19}"
      ],
      "execution_count": 7,
      "outputs": []
    },
    {
      "cell_type": "code",
      "metadata": {
        "id": "mdAlHvP-a8Jt"
      },
      "source": [
        "def cleanData(data):\n",
        "    cleaned_data = data.drop_duplicates(keep='first',inplace=False).loc[:, ~data.columns.str.contains(\"^Unnamed\")].dropna(axis=1,how='all').dropna(axis=0, how='any')\n",
        "    return cleaned_data"
      ],
      "execution_count": 8,
      "outputs": []
    },
    {
      "cell_type": "code",
      "metadata": {
        "id": "9fTyKNIUa98r"
      },
      "source": [
        "# clean data\n",
        "\n",
        "fullData = cleanData(fullData)\n",
        "artistData = cleanData(artistData)\n"
      ],
      "execution_count": 9,
      "outputs": []
    },
    {
      "cell_type": "code",
      "metadata": {
        "id": "f1o5cVIrbDpS"
      },
      "source": [
        "genre_res = pd.DataFrame(index=artistData.index, columns=['genre'])\n",
        "active_start_res = pd.DataFrame(index=artistData.index, columns=['active_start_year'])\n",
        "\n",
        "for row_index, row in artistData['artist_id'].items():\n",
        "    _tem = (influenceData.loc[(influenceData['influencer_id'] == row) | (influenceData['follower_id'] == row)]['influencer_main_genre'])\n",
        "    if _tem.shape[0] != 0:\n",
        "        genre_res['genre'][row_index] = _tem.iloc[0]\n",
        "\n",
        "for row_index, row in artistData['artist_id'].items():\n",
        "    _tem = (influenceData.loc[(influenceData['influencer_id'] == row) | (influenceData['follower_id'] == row)]['influencer_active_start'])\n",
        "    if _tem.shape[0] != 0:\n",
        "        active_start_res['active_start_year'][row_index] = _tem.iloc[0]\n",
        "\n",
        "artistData_concated = pd.concat([artistData,genre_res],axis=1)\n",
        "artistData_concated = pd.concat([artistData_concated,active_start_res],axis=1)\n",
        "#artistData_concated.to_csv('./artistData_concated.csv')\n",
        "\n",
        "genre_res = pd.DataFrame(index=artistData.index, columns=['genre'])\n",
        "active_start_res = pd.DataFrame(index=artistData.index, columns=['active_start_year'])"
      ],
      "execution_count": 10,
      "outputs": []
    },
    {
      "cell_type": "code",
      "metadata": {
        "id": "VJdPjetYbFHx"
      },
      "source": [
        "for row_index, row in fullData['artists_id'].items():\n",
        "    _tem = (influenceData.loc[(influenceData['influencer_id'] == eval(row)[0]) | (influenceData['follower_id'] == eval(row)[0])]['influencer_main_genre'])\n",
        "    if _tem.shape[0] != 0:\n",
        "        genre_res['genre'][row_index] = _tem.iloc[0]\n",
        "        \n",
        "fullData_concated = pd.concat([fullData,genre_res],axis=1)"
      ],
      "execution_count": null,
      "outputs": []
    },
    {
      "cell_type": "code",
      "metadata": {
        "id": "2RZ4oZr1blnP"
      },
      "source": [
        "artistData = artistData_concated\n",
        "fullData = fullData_concated\n",
        "\n",
        "fullData = cleanData(fullData)\n",
        "artistData = cleanData(artistData)"
      ],
      "execution_count": null,
      "outputs": []
    },
    {
      "cell_type": "code",
      "metadata": {
        "id": "XJdb3JQQdJZg"
      },
      "source": [
        "artistData"
      ],
      "execution_count": null,
      "outputs": []
    },
    {
      "cell_type": "code",
      "metadata": {
        "id": "-hy29oMDr9a1"
      },
      "source": [
        "artistData['artist_name'].value_counts()"
      ],
      "execution_count": null,
      "outputs": []
    },
    {
      "cell_type": "code",
      "metadata": {
        "id": "tQtTpYhisCsd"
      },
      "source": [
        "artistData['popul_by_artist_genre'] = artistData.groupby(['artist_name','genre'])['popularity'].transform('mean') \n"
      ],
      "execution_count": null,
      "outputs": []
    },
    {
      "cell_type": "code",
      "metadata": {
        "id": "IiFbJlMDtAzL"
      },
      "source": [
        "artistData_plots = artistData[['genre','active_start_year','popul_by_artist_genre']]\n",
        "artistData_plots['popul_by_genre'] = artistData_plots.groupby(['genre','active_start_year'])['popul_by_artist_genre'].transform('mean') \n",
        "artistData_plots"
      ],
      "execution_count": null,
      "outputs": []
    },
    {
      "cell_type": "code",
      "metadata": {
        "id": "y5NHE0K1tehG"
      },
      "source": [
        ""
      ],
      "execution_count": null,
      "outputs": []
    },
    {
      "cell_type": "code",
      "metadata": {
        "id": "EW68gfrjceDY"
      },
      "source": [
        "fullData"
      ],
      "execution_count": null,
      "outputs": []
    },
    {
      "cell_type": "markdown",
      "metadata": {
        "id": "sVDcmVL9qNOu"
      },
      "source": [
        "INSIGHTS + "
      ]
    },
    {
      "cell_type": "code",
      "metadata": {
        "id": "-KElhyAyigwz"
      },
      "source": [
        "fullData['danceability'] = fullData['danceability'].astype('float')\n",
        "\n",
        "plt.figure(figsize=(8, 6))\n",
        "\n",
        "\n",
        "sns.kdeplot(\n",
        "   data=fullData, x='danceability', hue='genre',\n",
        "#    fill=True, common_norm=False, palette=\"bright\",\n",
        "#    alpha=.2, linewidth=0,\n",
        ")\n",
        "sns.despine()\n",
        "plt.savefig('/content/sample_data/danceability.jpg', dpi=600)\n",
        "\n",
        "plt.figure(figsize=(8, 6))\n",
        "\n",
        "fullData['energy'] = fullData['energy'].astype('float')\n",
        "\n",
        "\n",
        "sns.kdeplot(\n",
        "\n",
        "   data=fullData, x='energy', hue='genre',\n",
        "#     fill=True, common_norm=False, palette=\"crest\",\n",
        "#    alpha=.3, linewidth=0,\n",
        ")\n",
        "sns.despine()\n",
        "plt.savefig('/content/sample_data/energy.jpg', dpi=600)\n",
        "\n",
        "fullData['valence'] = fullData['valence'].astype('float')\n",
        "\n",
        "plt.figure(figsize=(8, 6))\n",
        "\n",
        "sns.kdeplot(\n",
        "   data=fullData, x='valence', hue='genre',\n",
        "#    fill=True, common_norm=False, palette=\"crest\",\n",
        "#    alpha=.3, linewidth=0,\n",
        ")\n",
        "sns.despine()\n",
        "plt.savefig('/content/sample_data/valence.jpg', dpi=600)\n",
        "\n",
        "fullData['tempo'] = fullData['tempo'].astype('float')\n",
        "\n",
        "plt.figure(figsize=(8, 6))\n",
        "\n",
        "sns.kdeplot(\n",
        "   data=fullData, x='tempo', hue='genre',\n",
        "#    fill=True, common_norm=False, palette=\"crest\",\n",
        "#    alpha=.3, linewidth=0,\n",
        ")\n",
        "sns.despine()\n",
        "plt.savefig('/content/sample_data/tempo.jpg', dpi=600)\n",
        "\n",
        "\n",
        "fullData['loudness'] = fullData['loudness'].astype('float')\n",
        "\n",
        "plt.figure(figsize=(8, 6))\n",
        "\n",
        "sns.kdeplot(\n",
        "   data=fullData, x='loudness', hue='genre',\n",
        "#    fill=True, common_norm=False, palette=\"crest\",\n",
        "#    alpha=.4, linewidth=0,\n",
        ")\n",
        "sns.despine()\n",
        "plt.savefig('/content/sample_data/loudness.jpg', dpi=600)\n",
        "\n",
        "fullData['acousticness'] = fullData['acousticness'].astype('float')\n",
        "\n",
        "plt.figure(figsize=(8, 6))\n",
        "\n",
        "sns.kdeplot(\n",
        "   data=fullData, x='acousticness', hue='genre',\n",
        "#    fill=True, common_norm=False, palette=\"crest\",\n",
        "#    alpha=.4, linewidth=0,\n",
        ")\n",
        "sns.despine()\n",
        "plt.savefig('/content/sample_data/acousticness.jpg', dpi=600)\n",
        "\n",
        "fullData['instrumentalness'] = fullData['instrumentalness'].astype('float')\n",
        "\n",
        "plt.figure(figsize=(8, 6))\n",
        "\n",
        "sns.kdeplot(\n",
        "   data=fullData, x='instrumentalness', hue='genre',\n",
        "#    fill=True, common_norm=False, palette=\"bright\",\n",
        "#    alpha=.4, linewidth=0,\n",
        ")\n",
        "sns.despine()\n",
        "plt.savefig('/content/sample_data/instrumentalness.jpg', dpi=600)\n",
        "\n",
        "fullData['liveness'] = fullData['liveness'].astype('float')\n",
        "\n",
        "plt.figure(figsize=(8, 6))\n",
        "\n",
        "sns.kdeplot(\n",
        "   data=fullData, x='liveness', hue='genre',\n",
        "#    fill=True, common_norm=False, palette=\"crest\",\n",
        "#    alpha=.4, linewidth=0,\n",
        ")\n",
        "sns.despine()\n",
        "plt.savefig('/content/sample_data/liveness.jpg', dpi=600)\n",
        "\n",
        "fullData['speechiness'] = fullData['speechiness'].astype('float')\n",
        "\n",
        "plt.figure(figsize=(8, 6))\n",
        "\n",
        "sns.kdeplot(\n",
        "   data=fullData, x='speechiness', hue='genre',\n",
        "#    fill=True, common_norm=False, palette=\"crest\",\n",
        "#    alpha=.4, linewidth=0,\n",
        ")\n",
        "sns.despine()\n",
        "plt.savefig('/content/sample_data/speechiness.jpg', dpi=600)\n",
        "\n",
        "fullData['duration_ms'] = fullData['duration_ms'].astype('float')\n",
        "\n",
        "plt.figure(figsize=(8, 6))\n",
        "\n",
        "sns.kdeplot(\n",
        "   data=fullData, x='duration_ms', hue='genre',\n",
        "#    fill=True, common_norm=False, palette=\"crest\",\n",
        "#    alpha=.4, linewidth=0,\n",
        ")\n",
        "sns.despine()\n",
        "plt.savefig('/content/sample_data/duration_ms.jpg', dpi=600)\n",
        "\n",
        "fullData['popularity'] = fullData['popularity'].astype('float')\n",
        "\n",
        "plt.figure(figsize=(8, 6))\n",
        "\n",
        "sns.kdeplot(\n",
        "   data=fullData, x='popularity', hue='genre',\n",
        "#    fill=True, common_norm=False, palette=\"crest\",\n",
        "#    alpha=.4, linewidth=0,\n",
        ")\n",
        "sns.despine()\n",
        "plt.savefig('/content/sample_data/popularity.jpg', dpi=600)\n"
      ],
      "execution_count": null,
      "outputs": []
    },
    {
      "cell_type": "code",
      "metadata": {
        "id": "wpR2SdSRryXT"
      },
      "source": [
        ""
      ],
      "execution_count": null,
      "outputs": []
    }
  ]
}