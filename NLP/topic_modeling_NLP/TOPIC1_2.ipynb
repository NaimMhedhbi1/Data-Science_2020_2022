{
  "nbformat": 4,
  "nbformat_minor": 0,
  "metadata": {
    "colab": {
      "name": "TOPIC1-2.ipynb",
      "provenance": [],
      "collapsed_sections": []
    },
    "kernelspec": {
      "name": "python3",
      "display_name": "Python 3"
    },
    "language_info": {
      "name": "python"
    },
    "accelerator": "GPU"
  },
  "cells": [
    {
      "cell_type": "code",
      "metadata": {
        "id": "C_s4uG8a11G1"
      },
      "source": [
        "import numpy as np\n",
        "import pandas as pd\n",
        "import os\n",
        "import sys\n",
        "from google.colab import drive\n",
        "import matplotlib.pyplot as plt\n",
        "import math\n",
        "import itertools\n",
        "\n",
        "import random\n",
        "import seaborn as sns\n",
        "LOOK_AT = 10\n",
        "SEED = 42\n",
        "np.random.seed(SEED)\n",
        "random.seed(SEED)"
      ],
      "execution_count": null,
      "outputs": []
    },
    {
      "cell_type": "code",
      "metadata": {
        "colab": {
          "base_uri": "https://localhost:8080/"
        },
        "id": "KB6IjysX19gk",
        "outputId": "f62b9b5b-562e-450a-e023-0e16a423317e"
      },
      "source": [
        "#mount google colab\n",
        "drive.mount('/content/drive',force_remount = True)"
      ],
      "execution_count": null,
      "outputs": [
        {
          "output_type": "stream",
          "name": "stdout",
          "text": [
            "Mounted at /content/drive\n"
          ]
        }
      ]
    },
    {
      "cell_type": "code",
      "metadata": {
        "id": "VDk8288a1_9T"
      },
      "source": [
        "df_2020 = pd.read_csv('/content/drive/MyDrive/Richard_FRL/Project Data/2021_ICM_Problem_D_Data/df_2020.csv')"
      ],
      "execution_count": null,
      "outputs": []
    },
    {
      "cell_type": "code",
      "metadata": {
        "id": "XPGhk7tkGLZO"
      },
      "source": [
        "df_2020 = df_2020.groupby('artist_names').filter(lambda x : (x['artist_names'].count()>=100).any())\n",
        "#for the sake of reducing memory issues , we have just used artists with occurence above 20"
      ],
      "execution_count": null,
      "outputs": []
    },
    {
      "cell_type": "code",
      "metadata": {
        "id": "giI-WKgQ2Hg1"
      },
      "source": [
        "from xgboost import XGBClassifier \n",
        "from matplotlib import pyplot as plt \n",
        "from matplotlib.pyplot import figure\n",
        "\n",
        "classifier = XGBClassifier()"
      ],
      "execution_count": null,
      "outputs": []
    },
    {
      "cell_type": "markdown",
      "metadata": {
        "id": "FTvEOrKx5P4p"
      },
      "source": [
        "● Will only focus on the timeframe from 1990 - 2020"
      ]
    },
    {
      "cell_type": "code",
      "metadata": {
        "colab": {
          "base_uri": "https://localhost:8080/",
          "height": 617
        },
        "id": "EM2uVm5w2Lyl",
        "outputId": "d2e643b2-0ffb-49bf-a258-f334980abdb2"
      },
      "source": [
        "df_2020"
      ],
      "execution_count": null,
      "outputs": [
        {
          "output_type": "execute_result",
          "data": {
            "text/html": [
              "<div>\n",
              "<style scoped>\n",
              "    .dataframe tbody tr th:only-of-type {\n",
              "        vertical-align: middle;\n",
              "    }\n",
              "\n",
              "    .dataframe tbody tr th {\n",
              "        vertical-align: top;\n",
              "    }\n",
              "\n",
              "    .dataframe thead th {\n",
              "        text-align: right;\n",
              "    }\n",
              "</style>\n",
              "<table border=\"1\" class=\"dataframe\">\n",
              "  <thead>\n",
              "    <tr style=\"text-align: right;\">\n",
              "      <th></th>\n",
              "      <th>Unnamed: 0</th>\n",
              "      <th>artist_names</th>\n",
              "      <th>artists_id</th>\n",
              "      <th>danceability</th>\n",
              "      <th>energy</th>\n",
              "      <th>valence</th>\n",
              "      <th>tempo</th>\n",
              "      <th>loudness</th>\n",
              "      <th>mode</th>\n",
              "      <th>key</th>\n",
              "      <th>acousticness</th>\n",
              "      <th>instrumentalness</th>\n",
              "      <th>liveness</th>\n",
              "      <th>speechiness</th>\n",
              "      <th>explicit</th>\n",
              "      <th>duration_ms</th>\n",
              "      <th>popularity</th>\n",
              "      <th>year</th>\n",
              "      <th>release_date</th>\n",
              "      <th>song_title (censored)</th>\n",
              "    </tr>\n",
              "  </thead>\n",
              "  <tbody>\n",
              "    <tr>\n",
              "      <th>12</th>\n",
              "      <td>125</td>\n",
              "      <td>[\"D'Angelo\"]</td>\n",
              "      <td>[134600]</td>\n",
              "      <td>0.803</td>\n",
              "      <td>0.236</td>\n",
              "      <td>0.567</td>\n",
              "      <td>0.331737</td>\n",
              "      <td>0.743615</td>\n",
              "      <td>1</td>\n",
              "      <td>0.636364</td>\n",
              "      <td>0.3430</td>\n",
              "      <td>0.598000</td>\n",
              "      <td>0.0682</td>\n",
              "      <td>0.0994</td>\n",
              "      <td>1</td>\n",
              "      <td>0.081091</td>\n",
              "      <td>0.42</td>\n",
              "      <td>1995</td>\n",
              "      <td>7/3/1995</td>\n",
              "      <td>****, ****, ****</td>\n",
              "    </tr>\n",
              "    <tr>\n",
              "      <th>13</th>\n",
              "      <td>126</td>\n",
              "      <td>[\"D'Angelo\"]</td>\n",
              "      <td>[134600]</td>\n",
              "      <td>0.638</td>\n",
              "      <td>0.395</td>\n",
              "      <td>0.316</td>\n",
              "      <td>0.321667</td>\n",
              "      <td>0.764009</td>\n",
              "      <td>0</td>\n",
              "      <td>0.363636</td>\n",
              "      <td>0.7240</td>\n",
              "      <td>0.569000</td>\n",
              "      <td>0.0761</td>\n",
              "      <td>0.1000</td>\n",
              "      <td>0</td>\n",
              "      <td>0.089010</td>\n",
              "      <td>0.57</td>\n",
              "      <td>2014</td>\n",
              "      <td>12/15/2014</td>\n",
              "      <td>Really Love</td>\n",
              "    </tr>\n",
              "    <tr>\n",
              "      <th>14</th>\n",
              "      <td>127</td>\n",
              "      <td>[\"D'Angelo\"]</td>\n",
              "      <td>[134600]</td>\n",
              "      <td>0.407</td>\n",
              "      <td>0.399</td>\n",
              "      <td>0.538</td>\n",
              "      <td>0.277995</td>\n",
              "      <td>0.745435</td>\n",
              "      <td>1</td>\n",
              "      <td>0.090909</td>\n",
              "      <td>0.4570</td>\n",
              "      <td>0.000034</td>\n",
              "      <td>0.2090</td>\n",
              "      <td>0.3540</td>\n",
              "      <td>0</td>\n",
              "      <td>0.084650</td>\n",
              "      <td>0.40</td>\n",
              "      <td>1995</td>\n",
              "      <td>7/3/1995</td>\n",
              "      <td>Higher</td>\n",
              "    </tr>\n",
              "    <tr>\n",
              "      <th>15</th>\n",
              "      <td>128</td>\n",
              "      <td>[\"D'Angelo\"]</td>\n",
              "      <td>[134600]</td>\n",
              "      <td>0.643</td>\n",
              "      <td>0.473</td>\n",
              "      <td>0.509</td>\n",
              "      <td>0.335711</td>\n",
              "      <td>0.754204</td>\n",
              "      <td>1</td>\n",
              "      <td>0.818182</td>\n",
              "      <td>0.4250</td>\n",
              "      <td>0.022700</td>\n",
              "      <td>0.0904</td>\n",
              "      <td>0.0957</td>\n",
              "      <td>0</td>\n",
              "      <td>0.080925</td>\n",
              "      <td>0.41</td>\n",
              "      <td>1995</td>\n",
              "      <td>7/3/1995</td>\n",
              "      <td>Alright</td>\n",
              "    </tr>\n",
              "    <tr>\n",
              "      <th>16</th>\n",
              "      <td>129</td>\n",
              "      <td>[\"D'Angelo\"]</td>\n",
              "      <td>[134600]</td>\n",
              "      <td>0.842</td>\n",
              "      <td>0.405</td>\n",
              "      <td>0.824</td>\n",
              "      <td>0.376794</td>\n",
              "      <td>0.792169</td>\n",
              "      <td>1</td>\n",
              "      <td>0.090909</td>\n",
              "      <td>0.2190</td>\n",
              "      <td>0.000000</td>\n",
              "      <td>0.3680</td>\n",
              "      <td>0.6280</td>\n",
              "      <td>1</td>\n",
              "      <td>0.073823</td>\n",
              "      <td>0.45</td>\n",
              "      <td>2000</td>\n",
              "      <td>1/1/2000</td>\n",
              "      <td>Left And Right</td>\n",
              "    </tr>\n",
              "    <tr>\n",
              "      <th>...</th>\n",
              "      <td>...</td>\n",
              "      <td>...</td>\n",
              "      <td>...</td>\n",
              "      <td>...</td>\n",
              "      <td>...</td>\n",
              "      <td>...</td>\n",
              "      <td>...</td>\n",
              "      <td>...</td>\n",
              "      <td>...</td>\n",
              "      <td>...</td>\n",
              "      <td>...</td>\n",
              "      <td>...</td>\n",
              "      <td>...</td>\n",
              "      <td>...</td>\n",
              "      <td>...</td>\n",
              "      <td>...</td>\n",
              "      <td>...</td>\n",
              "      <td>...</td>\n",
              "      <td>...</td>\n",
              "      <td>...</td>\n",
              "    </tr>\n",
              "    <tr>\n",
              "      <th>32698</th>\n",
              "      <td>97439</td>\n",
              "      <td>['Wisin &amp; Yandel']</td>\n",
              "      <td>[1824831]</td>\n",
              "      <td>0.813</td>\n",
              "      <td>0.920</td>\n",
              "      <td>0.767</td>\n",
              "      <td>0.475208</td>\n",
              "      <td>0.899802</td>\n",
              "      <td>0</td>\n",
              "      <td>0.363636</td>\n",
              "      <td>0.2790</td>\n",
              "      <td>0.000007</td>\n",
              "      <td>0.3290</td>\n",
              "      <td>0.0550</td>\n",
              "      <td>0</td>\n",
              "      <td>0.058923</td>\n",
              "      <td>0.60</td>\n",
              "      <td>2009</td>\n",
              "      <td>1/1/2009</td>\n",
              "      <td>Me Estas Tentando</td>\n",
              "    </tr>\n",
              "    <tr>\n",
              "      <th>32699</th>\n",
              "      <td>97440</td>\n",
              "      <td>['Wisin &amp; Yandel']</td>\n",
              "      <td>[1824831]</td>\n",
              "      <td>0.747</td>\n",
              "      <td>0.716</td>\n",
              "      <td>0.385</td>\n",
              "      <td>0.413219</td>\n",
              "      <td>0.846558</td>\n",
              "      <td>1</td>\n",
              "      <td>0.545455</td>\n",
              "      <td>0.2950</td>\n",
              "      <td>0.000000</td>\n",
              "      <td>0.0868</td>\n",
              "      <td>0.0694</td>\n",
              "      <td>0</td>\n",
              "      <td>0.069947</td>\n",
              "      <td>0.59</td>\n",
              "      <td>2010</td>\n",
              "      <td>1/1/2010</td>\n",
              "      <td>Estoy Enamorado</td>\n",
              "    </tr>\n",
              "    <tr>\n",
              "      <th>32700</th>\n",
              "      <td>97441</td>\n",
              "      <td>['Wisin &amp; Yandel']</td>\n",
              "      <td>[1824831]</td>\n",
              "      <td>0.842</td>\n",
              "      <td>0.823</td>\n",
              "      <td>0.635</td>\n",
              "      <td>0.389269</td>\n",
              "      <td>0.860677</td>\n",
              "      <td>0</td>\n",
              "      <td>0.636364</td>\n",
              "      <td>0.0720</td>\n",
              "      <td>0.000001</td>\n",
              "      <td>0.0865</td>\n",
              "      <td>0.0790</td>\n",
              "      <td>0</td>\n",
              "      <td>0.049754</td>\n",
              "      <td>0.58</td>\n",
              "      <td>2005</td>\n",
              "      <td>1/1/2005</td>\n",
              "      <td>Llamé Pa' Verte (Bailando *****</td>\n",
              "    </tr>\n",
              "    <tr>\n",
              "      <th>32701</th>\n",
              "      <td>97442</td>\n",
              "      <td>['Wisin &amp; Yandel']</td>\n",
              "      <td>[1824831]</td>\n",
              "      <td>0.787</td>\n",
              "      <td>0.559</td>\n",
              "      <td>0.520</td>\n",
              "      <td>0.385188</td>\n",
              "      <td>0.827152</td>\n",
              "      <td>1</td>\n",
              "      <td>0.000000</td>\n",
              "      <td>0.1500</td>\n",
              "      <td>0.000000</td>\n",
              "      <td>0.0936</td>\n",
              "      <td>0.0460</td>\n",
              "      <td>0</td>\n",
              "      <td>0.062565</td>\n",
              "      <td>0.56</td>\n",
              "      <td>2007</td>\n",
              "      <td>1/1/2007</td>\n",
              "      <td>Porque Me Tratas Así?</td>\n",
              "    </tr>\n",
              "    <tr>\n",
              "      <th>32702</th>\n",
              "      <td>97443</td>\n",
              "      <td>['Wisin &amp; Yandel']</td>\n",
              "      <td>[1824831]</td>\n",
              "      <td>0.711</td>\n",
              "      <td>0.860</td>\n",
              "      <td>0.404</td>\n",
              "      <td>0.450430</td>\n",
              "      <td>0.886248</td>\n",
              "      <td>1</td>\n",
              "      <td>0.727273</td>\n",
              "      <td>0.0153</td>\n",
              "      <td>0.000000</td>\n",
              "      <td>0.3830</td>\n",
              "      <td>0.0414</td>\n",
              "      <td>0</td>\n",
              "      <td>0.066634</td>\n",
              "      <td>0.52</td>\n",
              "      <td>2009</td>\n",
              "      <td>1/1/2009</td>\n",
              "      <td>Te Siento</td>\n",
              "    </tr>\n",
              "  </tbody>\n",
              "</table>\n",
              "<p>17371 rows × 20 columns</p>\n",
              "</div>"
            ],
            "text/plain": [
              "       Unnamed: 0  ...            song_title (censored)\n",
              "12            125  ...                 ****, ****, ****\n",
              "13            126  ...                      Really Love\n",
              "14            127  ...                           Higher\n",
              "15            128  ...                          Alright\n",
              "16            129  ...                   Left And Right\n",
              "...           ...  ...                              ...\n",
              "32698       97439  ...                Me Estas Tentando\n",
              "32699       97440  ...                  Estoy Enamorado\n",
              "32700       97441  ...  Llamé Pa' Verte (Bailando *****\n",
              "32701       97442  ...            Porque Me Tratas Así?\n",
              "32702       97443  ...                        Te Siento\n",
              "\n",
              "[17371 rows x 20 columns]"
            ]
          },
          "metadata": {},
          "execution_count": 6
        }
      ]
    },
    {
      "cell_type": "code",
      "metadata": {
        "id": "Nov0H1hK2TWT"
      },
      "source": [
        "del df_2020['Unnamed: 0'] #useless\n",
        "del df_2020['popularity'] #we removed this because it is not a feature of music. \n",
        "#Also , this time in the assignement , popularity in the second part is defined as the number of followers on the Social Media platforms. so our target variable is the new variable ((num_followers\")) instead of the variable ((popularity)) that was used in the previous part.\n",
        "\n"
      ],
      "execution_count": null,
      "outputs": []
    },
    {
      "cell_type": "code",
      "metadata": {
        "colab": {
          "base_uri": "https://localhost:8080/"
        },
        "id": "n-pklJTQDoJ0",
        "outputId": "6e62ef8d-6a7e-4f68-c756-931f22a6e47c"
      },
      "source": [
        "df_2020['num_followers'] = np.random.uniform(0,1, df_2020.shape[0])\n",
        "\n",
        "df_2020['num_followers'].isnull().values.any() #just to check if there is any nan value in the new column\n",
        "                                              # I set the fake variables between 0 and 1 randomly to avoid the scaling part. but with real data we need few lines of code to scale the variable.\n"
      ],
      "execution_count": null,
      "outputs": [
        {
          "output_type": "execute_result",
          "data": {
            "text/plain": [
              "False"
            ]
          },
          "metadata": {},
          "execution_count": 8
        }
      ]
    },
    {
      "cell_type": "code",
      "metadata": {
        "colab": {
          "base_uri": "https://localhost:8080/"
        },
        "id": "G4M0uzGv2PuJ",
        "outputId": "83531dbd-9356-45ed-fdbd-fbbe628b38b2"
      },
      "source": [
        "df_2020.shape"
      ],
      "execution_count": null,
      "outputs": [
        {
          "output_type": "execute_result",
          "data": {
            "text/plain": [
              "(17371, 19)"
            ]
          },
          "metadata": {},
          "execution_count": 9
        }
      ]
    },
    {
      "cell_type": "code",
      "metadata": {
        "colab": {
          "base_uri": "https://localhost:8080/",
          "height": 198
        },
        "id": "bjeqcr99Eq03",
        "outputId": "6ea24d39-9098-4ac9-8596-2f60a9f38bce"
      },
      "source": [
        "df_2020.head(3)"
      ],
      "execution_count": null,
      "outputs": [
        {
          "output_type": "execute_result",
          "data": {
            "text/html": [
              "<div>\n",
              "<style scoped>\n",
              "    .dataframe tbody tr th:only-of-type {\n",
              "        vertical-align: middle;\n",
              "    }\n",
              "\n",
              "    .dataframe tbody tr th {\n",
              "        vertical-align: top;\n",
              "    }\n",
              "\n",
              "    .dataframe thead th {\n",
              "        text-align: right;\n",
              "    }\n",
              "</style>\n",
              "<table border=\"1\" class=\"dataframe\">\n",
              "  <thead>\n",
              "    <tr style=\"text-align: right;\">\n",
              "      <th></th>\n",
              "      <th>artist_names</th>\n",
              "      <th>artists_id</th>\n",
              "      <th>danceability</th>\n",
              "      <th>energy</th>\n",
              "      <th>valence</th>\n",
              "      <th>tempo</th>\n",
              "      <th>loudness</th>\n",
              "      <th>mode</th>\n",
              "      <th>key</th>\n",
              "      <th>acousticness</th>\n",
              "      <th>instrumentalness</th>\n",
              "      <th>liveness</th>\n",
              "      <th>speechiness</th>\n",
              "      <th>explicit</th>\n",
              "      <th>duration_ms</th>\n",
              "      <th>year</th>\n",
              "      <th>release_date</th>\n",
              "      <th>song_title (censored)</th>\n",
              "      <th>num_followers</th>\n",
              "    </tr>\n",
              "  </thead>\n",
              "  <tbody>\n",
              "    <tr>\n",
              "      <th>12</th>\n",
              "      <td>[\"D'Angelo\"]</td>\n",
              "      <td>[134600]</td>\n",
              "      <td>0.803</td>\n",
              "      <td>0.236</td>\n",
              "      <td>0.567</td>\n",
              "      <td>0.331737</td>\n",
              "      <td>0.743615</td>\n",
              "      <td>1</td>\n",
              "      <td>0.636364</td>\n",
              "      <td>0.343</td>\n",
              "      <td>0.598000</td>\n",
              "      <td>0.0682</td>\n",
              "      <td>0.0994</td>\n",
              "      <td>1</td>\n",
              "      <td>0.081091</td>\n",
              "      <td>1995</td>\n",
              "      <td>7/3/1995</td>\n",
              "      <td>****, ****, ****</td>\n",
              "      <td>0.374540</td>\n",
              "    </tr>\n",
              "    <tr>\n",
              "      <th>13</th>\n",
              "      <td>[\"D'Angelo\"]</td>\n",
              "      <td>[134600]</td>\n",
              "      <td>0.638</td>\n",
              "      <td>0.395</td>\n",
              "      <td>0.316</td>\n",
              "      <td>0.321667</td>\n",
              "      <td>0.764009</td>\n",
              "      <td>0</td>\n",
              "      <td>0.363636</td>\n",
              "      <td>0.724</td>\n",
              "      <td>0.569000</td>\n",
              "      <td>0.0761</td>\n",
              "      <td>0.1000</td>\n",
              "      <td>0</td>\n",
              "      <td>0.089010</td>\n",
              "      <td>2014</td>\n",
              "      <td>12/15/2014</td>\n",
              "      <td>Really Love</td>\n",
              "      <td>0.950714</td>\n",
              "    </tr>\n",
              "    <tr>\n",
              "      <th>14</th>\n",
              "      <td>[\"D'Angelo\"]</td>\n",
              "      <td>[134600]</td>\n",
              "      <td>0.407</td>\n",
              "      <td>0.399</td>\n",
              "      <td>0.538</td>\n",
              "      <td>0.277995</td>\n",
              "      <td>0.745435</td>\n",
              "      <td>1</td>\n",
              "      <td>0.090909</td>\n",
              "      <td>0.457</td>\n",
              "      <td>0.000034</td>\n",
              "      <td>0.2090</td>\n",
              "      <td>0.3540</td>\n",
              "      <td>0</td>\n",
              "      <td>0.084650</td>\n",
              "      <td>1995</td>\n",
              "      <td>7/3/1995</td>\n",
              "      <td>Higher</td>\n",
              "      <td>0.731994</td>\n",
              "    </tr>\n",
              "  </tbody>\n",
              "</table>\n",
              "</div>"
            ],
            "text/plain": [
              "    artist_names artists_id  ...  song_title (censored)  num_followers\n",
              "12  [\"D'Angelo\"]   [134600]  ...       ****, ****, ****       0.374540\n",
              "13  [\"D'Angelo\"]   [134600]  ...            Really Love       0.950714\n",
              "14  [\"D'Angelo\"]   [134600]  ...                 Higher       0.731994\n",
              "\n",
              "[3 rows x 19 columns]"
            ]
          },
          "metadata": {},
          "execution_count": 10
        }
      ]
    },
    {
      "cell_type": "code",
      "metadata": {
        "colab": {
          "base_uri": "https://localhost:8080/"
        },
        "id": "juzR6BHZFbL1",
        "outputId": "d850f503-bd3e-404e-805e-0af193501ac4"
      },
      "source": [
        "df_2020.columns"
      ],
      "execution_count": null,
      "outputs": [
        {
          "output_type": "execute_result",
          "data": {
            "text/plain": [
              "Index(['artist_names', 'artists_id', 'danceability', 'energy', 'valence',\n",
              "       'tempo', 'loudness', 'mode', 'key', 'acousticness', 'instrumentalness',\n",
              "       'liveness', 'speechiness', 'explicit', 'duration_ms', 'year',\n",
              "       'release_date', 'song_title (censored)', 'num_followers'],\n",
              "      dtype='object')"
            ]
          },
          "metadata": {},
          "execution_count": 11
        }
      ]
    },
    {
      "cell_type": "code",
      "metadata": {
        "id": "2BGN6PgT2Ol2"
      },
      "source": [
        "X_2020 =df_2020[['danceability', 'energy', 'valence',\n",
        "       'tempo', 'loudness', 'key', 'acousticness', 'instrumentalness',\n",
        "       'liveness', 'speechiness', 'duration_ms']]\n",
        "Y_2020 =df_2020['num_followers']\n",
        "\n",
        "#here we removed two columns to reduce computational cost. "
      ],
      "execution_count": null,
      "outputs": []
    },
    {
      "cell_type": "markdown",
      "metadata": {
        "id": "JmISuLDW5Nkc"
      },
      "source": [
        "Determine which features of music the artists use the most in their music."
      ]
    },
    {
      "cell_type": "code",
      "metadata": {
        "id": "v3sOgQ4C2NcH"
      },
      "source": [
        "classifier.fit(X_2020, Y_2020) \n",
        "print(classifier.feature_importances_)\n",
        "figure(figsize=(15, 4.5), dpi=80,)\n",
        "plt.bar(X_2020.columns,classifier.feature_importances_)\n",
        "plt.show()"
      ],
      "execution_count": null,
      "outputs": []
    }
  ]
}