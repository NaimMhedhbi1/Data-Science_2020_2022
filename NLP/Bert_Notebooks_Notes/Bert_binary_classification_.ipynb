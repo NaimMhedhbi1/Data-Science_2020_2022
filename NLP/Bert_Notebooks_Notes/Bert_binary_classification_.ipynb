{
  "nbformat": 4,
  "nbformat_minor": 0,
  "metadata": {
    "kernelspec": {
      "language": "python",
      "display_name": "Python 3",
      "name": "python3"
    },
    "language_info": {
      "name": "python",
      "version": "3.7.6",
      "mimetype": "text/x-python",
      "codemirror_mode": {
        "name": "ipython",
        "version": 3
      },
      "pygments_lexer": "ipython3",
      "nbconvert_exporter": "python",
      "file_extension": ".py"
    },
    "colab": {
      "name": "Bert binary classification .ipynb",
      "provenance": [],
      "collapsed_sections": []
    },
    "accelerator": "GPU",
    "widgets": {
      "application/vnd.jupyter.widget-state+json": {
        "23b441ecd84946d29bc7c826dc05dc22": {
          "model_module": "@jupyter-widgets/controls",
          "model_name": "HBoxModel",
          "state": {
            "_view_name": "HBoxView",
            "_dom_classes": [],
            "_model_name": "HBoxModel",
            "_view_module": "@jupyter-widgets/controls",
            "_model_module_version": "1.5.0",
            "_view_count": null,
            "_view_module_version": "1.5.0",
            "box_style": "",
            "layout": "IPY_MODEL_fd928425fec84c538503c600d332f612",
            "_model_module": "@jupyter-widgets/controls",
            "children": [
              "IPY_MODEL_22137a145f7f411392979f10e7221315",
              "IPY_MODEL_5c6c74a7a7944e5395369a486167fdd2"
            ]
          }
        },
        "fd928425fec84c538503c600d332f612": {
          "model_module": "@jupyter-widgets/base",
          "model_name": "LayoutModel",
          "state": {
            "_view_name": "LayoutView",
            "grid_template_rows": null,
            "right": null,
            "justify_content": null,
            "_view_module": "@jupyter-widgets/base",
            "overflow": null,
            "_model_module_version": "1.2.0",
            "_view_count": null,
            "flex_flow": null,
            "width": null,
            "min_width": null,
            "border": null,
            "align_items": null,
            "bottom": null,
            "_model_module": "@jupyter-widgets/base",
            "top": null,
            "grid_column": null,
            "overflow_y": null,
            "overflow_x": null,
            "grid_auto_flow": null,
            "grid_area": null,
            "grid_template_columns": null,
            "flex": null,
            "_model_name": "LayoutModel",
            "justify_items": null,
            "grid_row": null,
            "max_height": null,
            "align_content": null,
            "visibility": null,
            "align_self": null,
            "height": null,
            "min_height": null,
            "padding": null,
            "grid_auto_rows": null,
            "grid_gap": null,
            "max_width": null,
            "order": null,
            "_view_module_version": "1.2.0",
            "grid_template_areas": null,
            "object_position": null,
            "object_fit": null,
            "grid_auto_columns": null,
            "margin": null,
            "display": null,
            "left": null
          }
        },
        "22137a145f7f411392979f10e7221315": {
          "model_module": "@jupyter-widgets/controls",
          "model_name": "FloatProgressModel",
          "state": {
            "_view_name": "ProgressView",
            "style": "IPY_MODEL_e96009ecfebb4a3a8d03fa2883ffbeed",
            "_dom_classes": [],
            "description": "Downloading: 100%",
            "_model_name": "FloatProgressModel",
            "bar_style": "success",
            "max": 625,
            "_view_module": "@jupyter-widgets/controls",
            "_model_module_version": "1.5.0",
            "value": 625,
            "_view_count": null,
            "_view_module_version": "1.5.0",
            "orientation": "horizontal",
            "min": 0,
            "description_tooltip": null,
            "_model_module": "@jupyter-widgets/controls",
            "layout": "IPY_MODEL_9478a2dd9c9349b2ad5a7ad2d2204273"
          }
        },
        "5c6c74a7a7944e5395369a486167fdd2": {
          "model_module": "@jupyter-widgets/controls",
          "model_name": "HTMLModel",
          "state": {
            "_view_name": "HTMLView",
            "style": "IPY_MODEL_a1ae2ddfd9b7413fabe3e6ba2ec908db",
            "_dom_classes": [],
            "description": "",
            "_model_name": "HTMLModel",
            "placeholder": "​",
            "_view_module": "@jupyter-widgets/controls",
            "_model_module_version": "1.5.0",
            "value": " 625/625 [00:00&lt;00:00, 9.43kB/s]",
            "_view_count": null,
            "_view_module_version": "1.5.0",
            "description_tooltip": null,
            "_model_module": "@jupyter-widgets/controls",
            "layout": "IPY_MODEL_c47f368768c14f558e31a4c6b3df3ae4"
          }
        },
        "e96009ecfebb4a3a8d03fa2883ffbeed": {
          "model_module": "@jupyter-widgets/controls",
          "model_name": "ProgressStyleModel",
          "state": {
            "_view_name": "StyleView",
            "_model_name": "ProgressStyleModel",
            "description_width": "initial",
            "_view_module": "@jupyter-widgets/base",
            "_model_module_version": "1.5.0",
            "_view_count": null,
            "_view_module_version": "1.2.0",
            "bar_color": null,
            "_model_module": "@jupyter-widgets/controls"
          }
        },
        "9478a2dd9c9349b2ad5a7ad2d2204273": {
          "model_module": "@jupyter-widgets/base",
          "model_name": "LayoutModel",
          "state": {
            "_view_name": "LayoutView",
            "grid_template_rows": null,
            "right": null,
            "justify_content": null,
            "_view_module": "@jupyter-widgets/base",
            "overflow": null,
            "_model_module_version": "1.2.0",
            "_view_count": null,
            "flex_flow": null,
            "width": null,
            "min_width": null,
            "border": null,
            "align_items": null,
            "bottom": null,
            "_model_module": "@jupyter-widgets/base",
            "top": null,
            "grid_column": null,
            "overflow_y": null,
            "overflow_x": null,
            "grid_auto_flow": null,
            "grid_area": null,
            "grid_template_columns": null,
            "flex": null,
            "_model_name": "LayoutModel",
            "justify_items": null,
            "grid_row": null,
            "max_height": null,
            "align_content": null,
            "visibility": null,
            "align_self": null,
            "height": null,
            "min_height": null,
            "padding": null,
            "grid_auto_rows": null,
            "grid_gap": null,
            "max_width": null,
            "order": null,
            "_view_module_version": "1.2.0",
            "grid_template_areas": null,
            "object_position": null,
            "object_fit": null,
            "grid_auto_columns": null,
            "margin": null,
            "display": null,
            "left": null
          }
        },
        "a1ae2ddfd9b7413fabe3e6ba2ec908db": {
          "model_module": "@jupyter-widgets/controls",
          "model_name": "DescriptionStyleModel",
          "state": {
            "_view_name": "StyleView",
            "_model_name": "DescriptionStyleModel",
            "description_width": "",
            "_view_module": "@jupyter-widgets/base",
            "_model_module_version": "1.5.0",
            "_view_count": null,
            "_view_module_version": "1.2.0",
            "_model_module": "@jupyter-widgets/controls"
          }
        },
        "c47f368768c14f558e31a4c6b3df3ae4": {
          "model_module": "@jupyter-widgets/base",
          "model_name": "LayoutModel",
          "state": {
            "_view_name": "LayoutView",
            "grid_template_rows": null,
            "right": null,
            "justify_content": null,
            "_view_module": "@jupyter-widgets/base",
            "overflow": null,
            "_model_module_version": "1.2.0",
            "_view_count": null,
            "flex_flow": null,
            "width": null,
            "min_width": null,
            "border": null,
            "align_items": null,
            "bottom": null,
            "_model_module": "@jupyter-widgets/base",
            "top": null,
            "grid_column": null,
            "overflow_y": null,
            "overflow_x": null,
            "grid_auto_flow": null,
            "grid_area": null,
            "grid_template_columns": null,
            "flex": null,
            "_model_name": "LayoutModel",
            "justify_items": null,
            "grid_row": null,
            "max_height": null,
            "align_content": null,
            "visibility": null,
            "align_self": null,
            "height": null,
            "min_height": null,
            "padding": null,
            "grid_auto_rows": null,
            "grid_gap": null,
            "max_width": null,
            "order": null,
            "_view_module_version": "1.2.0",
            "grid_template_areas": null,
            "object_position": null,
            "object_fit": null,
            "grid_auto_columns": null,
            "margin": null,
            "display": null,
            "left": null
          }
        },
        "0811e7fdafd8403b86993d09447605cd": {
          "model_module": "@jupyter-widgets/controls",
          "model_name": "HBoxModel",
          "state": {
            "_view_name": "HBoxView",
            "_dom_classes": [],
            "_model_name": "HBoxModel",
            "_view_module": "@jupyter-widgets/controls",
            "_model_module_version": "1.5.0",
            "_view_count": null,
            "_view_module_version": "1.5.0",
            "box_style": "",
            "layout": "IPY_MODEL_ffde7961e1f746e3bbe478236c9cc244",
            "_model_module": "@jupyter-widgets/controls",
            "children": [
              "IPY_MODEL_f27c3d806e3044ac9bd03e80f04c164d",
              "IPY_MODEL_902d315082d747ba8f4fb6724b7272c8"
            ]
          }
        },
        "ffde7961e1f746e3bbe478236c9cc244": {
          "model_module": "@jupyter-widgets/base",
          "model_name": "LayoutModel",
          "state": {
            "_view_name": "LayoutView",
            "grid_template_rows": null,
            "right": null,
            "justify_content": null,
            "_view_module": "@jupyter-widgets/base",
            "overflow": null,
            "_model_module_version": "1.2.0",
            "_view_count": null,
            "flex_flow": null,
            "width": null,
            "min_width": null,
            "border": null,
            "align_items": null,
            "bottom": null,
            "_model_module": "@jupyter-widgets/base",
            "top": null,
            "grid_column": null,
            "overflow_y": null,
            "overflow_x": null,
            "grid_auto_flow": null,
            "grid_area": null,
            "grid_template_columns": null,
            "flex": null,
            "_model_name": "LayoutModel",
            "justify_items": null,
            "grid_row": null,
            "max_height": null,
            "align_content": null,
            "visibility": null,
            "align_self": null,
            "height": null,
            "min_height": null,
            "padding": null,
            "grid_auto_rows": null,
            "grid_gap": null,
            "max_width": null,
            "order": null,
            "_view_module_version": "1.2.0",
            "grid_template_areas": null,
            "object_position": null,
            "object_fit": null,
            "grid_auto_columns": null,
            "margin": null,
            "display": null,
            "left": null
          }
        },
        "f27c3d806e3044ac9bd03e80f04c164d": {
          "model_module": "@jupyter-widgets/controls",
          "model_name": "FloatProgressModel",
          "state": {
            "_view_name": "ProgressView",
            "style": "IPY_MODEL_110c8af467c242349e2acbd21a90b453",
            "_dom_classes": [],
            "description": "Downloading: 100%",
            "_model_name": "FloatProgressModel",
            "bar_style": "success",
            "max": 871891,
            "_view_module": "@jupyter-widgets/controls",
            "_model_module_version": "1.5.0",
            "value": 871891,
            "_view_count": null,
            "_view_module_version": "1.5.0",
            "orientation": "horizontal",
            "min": 0,
            "description_tooltip": null,
            "_model_module": "@jupyter-widgets/controls",
            "layout": "IPY_MODEL_9913ddf502514414933b4c572fc9c065"
          }
        },
        "902d315082d747ba8f4fb6724b7272c8": {
          "model_module": "@jupyter-widgets/controls",
          "model_name": "HTMLModel",
          "state": {
            "_view_name": "HTMLView",
            "style": "IPY_MODEL_db0b5e14581540a4a3d47e0559ff748a",
            "_dom_classes": [],
            "description": "",
            "_model_name": "HTMLModel",
            "placeholder": "​",
            "_view_module": "@jupyter-widgets/controls",
            "_model_module_version": "1.5.0",
            "value": " 872k/872k [00:00&lt;00:00, 1.58MB/s]",
            "_view_count": null,
            "_view_module_version": "1.5.0",
            "description_tooltip": null,
            "_model_module": "@jupyter-widgets/controls",
            "layout": "IPY_MODEL_470185ece93d491dad8bc2f9ed5815d3"
          }
        },
        "110c8af467c242349e2acbd21a90b453": {
          "model_module": "@jupyter-widgets/controls",
          "model_name": "ProgressStyleModel",
          "state": {
            "_view_name": "StyleView",
            "_model_name": "ProgressStyleModel",
            "description_width": "initial",
            "_view_module": "@jupyter-widgets/base",
            "_model_module_version": "1.5.0",
            "_view_count": null,
            "_view_module_version": "1.2.0",
            "bar_color": null,
            "_model_module": "@jupyter-widgets/controls"
          }
        },
        "9913ddf502514414933b4c572fc9c065": {
          "model_module": "@jupyter-widgets/base",
          "model_name": "LayoutModel",
          "state": {
            "_view_name": "LayoutView",
            "grid_template_rows": null,
            "right": null,
            "justify_content": null,
            "_view_module": "@jupyter-widgets/base",
            "overflow": null,
            "_model_module_version": "1.2.0",
            "_view_count": null,
            "flex_flow": null,
            "width": null,
            "min_width": null,
            "border": null,
            "align_items": null,
            "bottom": null,
            "_model_module": "@jupyter-widgets/base",
            "top": null,
            "grid_column": null,
            "overflow_y": null,
            "overflow_x": null,
            "grid_auto_flow": null,
            "grid_area": null,
            "grid_template_columns": null,
            "flex": null,
            "_model_name": "LayoutModel",
            "justify_items": null,
            "grid_row": null,
            "max_height": null,
            "align_content": null,
            "visibility": null,
            "align_self": null,
            "height": null,
            "min_height": null,
            "padding": null,
            "grid_auto_rows": null,
            "grid_gap": null,
            "max_width": null,
            "order": null,
            "_view_module_version": "1.2.0",
            "grid_template_areas": null,
            "object_position": null,
            "object_fit": null,
            "grid_auto_columns": null,
            "margin": null,
            "display": null,
            "left": null
          }
        },
        "db0b5e14581540a4a3d47e0559ff748a": {
          "model_module": "@jupyter-widgets/controls",
          "model_name": "DescriptionStyleModel",
          "state": {
            "_view_name": "StyleView",
            "_model_name": "DescriptionStyleModel",
            "description_width": "",
            "_view_module": "@jupyter-widgets/base",
            "_model_module_version": "1.5.0",
            "_view_count": null,
            "_view_module_version": "1.2.0",
            "_model_module": "@jupyter-widgets/controls"
          }
        },
        "470185ece93d491dad8bc2f9ed5815d3": {
          "model_module": "@jupyter-widgets/base",
          "model_name": "LayoutModel",
          "state": {
            "_view_name": "LayoutView",
            "grid_template_rows": null,
            "right": null,
            "justify_content": null,
            "_view_module": "@jupyter-widgets/base",
            "overflow": null,
            "_model_module_version": "1.2.0",
            "_view_count": null,
            "flex_flow": null,
            "width": null,
            "min_width": null,
            "border": null,
            "align_items": null,
            "bottom": null,
            "_model_module": "@jupyter-widgets/base",
            "top": null,
            "grid_column": null,
            "overflow_y": null,
            "overflow_x": null,
            "grid_auto_flow": null,
            "grid_area": null,
            "grid_template_columns": null,
            "flex": null,
            "_model_name": "LayoutModel",
            "justify_items": null,
            "grid_row": null,
            "max_height": null,
            "align_content": null,
            "visibility": null,
            "align_self": null,
            "height": null,
            "min_height": null,
            "padding": null,
            "grid_auto_rows": null,
            "grid_gap": null,
            "max_width": null,
            "order": null,
            "_view_module_version": "1.2.0",
            "grid_template_areas": null,
            "object_position": null,
            "object_fit": null,
            "grid_auto_columns": null,
            "margin": null,
            "display": null,
            "left": null
          }
        },
        "82d3af75e7c048458c96fbe911cc3ded": {
          "model_module": "@jupyter-widgets/controls",
          "model_name": "HBoxModel",
          "state": {
            "_view_name": "HBoxView",
            "_dom_classes": [],
            "_model_name": "HBoxModel",
            "_view_module": "@jupyter-widgets/controls",
            "_model_module_version": "1.5.0",
            "_view_count": null,
            "_view_module_version": "1.5.0",
            "box_style": "",
            "layout": "IPY_MODEL_56d53e30f6654fffa9c4a9c6c96078c7",
            "_model_module": "@jupyter-widgets/controls",
            "children": [
              "IPY_MODEL_eaa9e0a63e32444192ecdc811275bfdd",
              "IPY_MODEL_c05c37c15e194bf7b323ae34f005d238"
            ]
          }
        },
        "56d53e30f6654fffa9c4a9c6c96078c7": {
          "model_module": "@jupyter-widgets/base",
          "model_name": "LayoutModel",
          "state": {
            "_view_name": "LayoutView",
            "grid_template_rows": null,
            "right": null,
            "justify_content": null,
            "_view_module": "@jupyter-widgets/base",
            "overflow": null,
            "_model_module_version": "1.2.0",
            "_view_count": null,
            "flex_flow": null,
            "width": null,
            "min_width": null,
            "border": null,
            "align_items": null,
            "bottom": null,
            "_model_module": "@jupyter-widgets/base",
            "top": null,
            "grid_column": null,
            "overflow_y": null,
            "overflow_x": null,
            "grid_auto_flow": null,
            "grid_area": null,
            "grid_template_columns": null,
            "flex": null,
            "_model_name": "LayoutModel",
            "justify_items": null,
            "grid_row": null,
            "max_height": null,
            "align_content": null,
            "visibility": null,
            "align_self": null,
            "height": null,
            "min_height": null,
            "padding": null,
            "grid_auto_rows": null,
            "grid_gap": null,
            "max_width": null,
            "order": null,
            "_view_module_version": "1.2.0",
            "grid_template_areas": null,
            "object_position": null,
            "object_fit": null,
            "grid_auto_columns": null,
            "margin": null,
            "display": null,
            "left": null
          }
        },
        "eaa9e0a63e32444192ecdc811275bfdd": {
          "model_module": "@jupyter-widgets/controls",
          "model_name": "FloatProgressModel",
          "state": {
            "_view_name": "ProgressView",
            "style": "IPY_MODEL_f71a946645354cea980915c90d0e9cf9",
            "_dom_classes": [],
            "description": "Downloading: 100%",
            "_model_name": "FloatProgressModel",
            "bar_style": "success",
            "max": 1715180,
            "_view_module": "@jupyter-widgets/controls",
            "_model_module_version": "1.5.0",
            "value": 1715180,
            "_view_count": null,
            "_view_module_version": "1.5.0",
            "orientation": "horizontal",
            "min": 0,
            "description_tooltip": null,
            "_model_module": "@jupyter-widgets/controls",
            "layout": "IPY_MODEL_85365b37fa644841a4c6aa59bc3e40da"
          }
        },
        "c05c37c15e194bf7b323ae34f005d238": {
          "model_module": "@jupyter-widgets/controls",
          "model_name": "HTMLModel",
          "state": {
            "_view_name": "HTMLView",
            "style": "IPY_MODEL_d7e6b15d9ec34478a8fab1fe29f82eb3",
            "_dom_classes": [],
            "description": "",
            "_model_name": "HTMLModel",
            "placeholder": "​",
            "_view_module": "@jupyter-widgets/controls",
            "_model_module_version": "1.5.0",
            "value": " 1.72M/1.72M [00:00&lt;00:00, 6.10MB/s]",
            "_view_count": null,
            "_view_module_version": "1.5.0",
            "description_tooltip": null,
            "_model_module": "@jupyter-widgets/controls",
            "layout": "IPY_MODEL_93c0eb3004a041149a2f0f54c898274e"
          }
        },
        "f71a946645354cea980915c90d0e9cf9": {
          "model_module": "@jupyter-widgets/controls",
          "model_name": "ProgressStyleModel",
          "state": {
            "_view_name": "StyleView",
            "_model_name": "ProgressStyleModel",
            "description_width": "initial",
            "_view_module": "@jupyter-widgets/base",
            "_model_module_version": "1.5.0",
            "_view_count": null,
            "_view_module_version": "1.2.0",
            "bar_color": null,
            "_model_module": "@jupyter-widgets/controls"
          }
        },
        "85365b37fa644841a4c6aa59bc3e40da": {
          "model_module": "@jupyter-widgets/base",
          "model_name": "LayoutModel",
          "state": {
            "_view_name": "LayoutView",
            "grid_template_rows": null,
            "right": null,
            "justify_content": null,
            "_view_module": "@jupyter-widgets/base",
            "overflow": null,
            "_model_module_version": "1.2.0",
            "_view_count": null,
            "flex_flow": null,
            "width": null,
            "min_width": null,
            "border": null,
            "align_items": null,
            "bottom": null,
            "_model_module": "@jupyter-widgets/base",
            "top": null,
            "grid_column": null,
            "overflow_y": null,
            "overflow_x": null,
            "grid_auto_flow": null,
            "grid_area": null,
            "grid_template_columns": null,
            "flex": null,
            "_model_name": "LayoutModel",
            "justify_items": null,
            "grid_row": null,
            "max_height": null,
            "align_content": null,
            "visibility": null,
            "align_self": null,
            "height": null,
            "min_height": null,
            "padding": null,
            "grid_auto_rows": null,
            "grid_gap": null,
            "max_width": null,
            "order": null,
            "_view_module_version": "1.2.0",
            "grid_template_areas": null,
            "object_position": null,
            "object_fit": null,
            "grid_auto_columns": null,
            "margin": null,
            "display": null,
            "left": null
          }
        },
        "d7e6b15d9ec34478a8fab1fe29f82eb3": {
          "model_module": "@jupyter-widgets/controls",
          "model_name": "DescriptionStyleModel",
          "state": {
            "_view_name": "StyleView",
            "_model_name": "DescriptionStyleModel",
            "description_width": "",
            "_view_module": "@jupyter-widgets/base",
            "_model_module_version": "1.5.0",
            "_view_count": null,
            "_view_module_version": "1.2.0",
            "_model_module": "@jupyter-widgets/controls"
          }
        },
        "93c0eb3004a041149a2f0f54c898274e": {
          "model_module": "@jupyter-widgets/base",
          "model_name": "LayoutModel",
          "state": {
            "_view_name": "LayoutView",
            "grid_template_rows": null,
            "right": null,
            "justify_content": null,
            "_view_module": "@jupyter-widgets/base",
            "overflow": null,
            "_model_module_version": "1.2.0",
            "_view_count": null,
            "flex_flow": null,
            "width": null,
            "min_width": null,
            "border": null,
            "align_items": null,
            "bottom": null,
            "_model_module": "@jupyter-widgets/base",
            "top": null,
            "grid_column": null,
            "overflow_y": null,
            "overflow_x": null,
            "grid_auto_flow": null,
            "grid_area": null,
            "grid_template_columns": null,
            "flex": null,
            "_model_name": "LayoutModel",
            "justify_items": null,
            "grid_row": null,
            "max_height": null,
            "align_content": null,
            "visibility": null,
            "align_self": null,
            "height": null,
            "min_height": null,
            "padding": null,
            "grid_auto_rows": null,
            "grid_gap": null,
            "max_width": null,
            "order": null,
            "_view_module_version": "1.2.0",
            "grid_template_areas": null,
            "object_position": null,
            "object_fit": null,
            "grid_auto_columns": null,
            "margin": null,
            "display": null,
            "left": null
          }
        },
        "136f0ee3d4ca478e96001017c8c43a4c": {
          "model_module": "@jupyter-widgets/controls",
          "model_name": "HBoxModel",
          "state": {
            "_view_name": "HBoxView",
            "_dom_classes": [],
            "_model_name": "HBoxModel",
            "_view_module": "@jupyter-widgets/controls",
            "_model_module_version": "1.5.0",
            "_view_count": null,
            "_view_module_version": "1.5.0",
            "box_style": "",
            "layout": "IPY_MODEL_e63b86f45f0348f8a39e595d4e0c8c4f",
            "_model_module": "@jupyter-widgets/controls",
            "children": [
              "IPY_MODEL_4815ffc1c29a43ca9f422d7fd8565a4d",
              "IPY_MODEL_d8d7689de1cb432bb8a623dce69ba4f3"
            ]
          }
        },
        "e63b86f45f0348f8a39e595d4e0c8c4f": {
          "model_module": "@jupyter-widgets/base",
          "model_name": "LayoutModel",
          "state": {
            "_view_name": "LayoutView",
            "grid_template_rows": null,
            "right": null,
            "justify_content": null,
            "_view_module": "@jupyter-widgets/base",
            "overflow": null,
            "_model_module_version": "1.2.0",
            "_view_count": null,
            "flex_flow": null,
            "width": null,
            "min_width": null,
            "border": null,
            "align_items": null,
            "bottom": null,
            "_model_module": "@jupyter-widgets/base",
            "top": null,
            "grid_column": null,
            "overflow_y": null,
            "overflow_x": null,
            "grid_auto_flow": null,
            "grid_area": null,
            "grid_template_columns": null,
            "flex": null,
            "_model_name": "LayoutModel",
            "justify_items": null,
            "grid_row": null,
            "max_height": null,
            "align_content": null,
            "visibility": null,
            "align_self": null,
            "height": null,
            "min_height": null,
            "padding": null,
            "grid_auto_rows": null,
            "grid_gap": null,
            "max_width": null,
            "order": null,
            "_view_module_version": "1.2.0",
            "grid_template_areas": null,
            "object_position": null,
            "object_fit": null,
            "grid_auto_columns": null,
            "margin": null,
            "display": null,
            "left": null
          }
        },
        "4815ffc1c29a43ca9f422d7fd8565a4d": {
          "model_module": "@jupyter-widgets/controls",
          "model_name": "FloatProgressModel",
          "state": {
            "_view_name": "ProgressView",
            "style": "IPY_MODEL_6e6170e3444f437ea3b904c9fec3e97c",
            "_dom_classes": [],
            "description": "Downloading: 100%",
            "_model_name": "FloatProgressModel",
            "bar_style": "success",
            "max": 999358484,
            "_view_module": "@jupyter-widgets/controls",
            "_model_module_version": "1.5.0",
            "value": 999358484,
            "_view_count": null,
            "_view_module_version": "1.5.0",
            "orientation": "horizontal",
            "min": 0,
            "description_tooltip": null,
            "_model_module": "@jupyter-widgets/controls",
            "layout": "IPY_MODEL_16cc7f5eb7b246f6a9b94a68a85d3501"
          }
        },
        "d8d7689de1cb432bb8a623dce69ba4f3": {
          "model_module": "@jupyter-widgets/controls",
          "model_name": "HTMLModel",
          "state": {
            "_view_name": "HTMLView",
            "style": "IPY_MODEL_5df614897f464bd89d14f72809cbca6a",
            "_dom_classes": [],
            "description": "",
            "_model_name": "HTMLModel",
            "placeholder": "​",
            "_view_module": "@jupyter-widgets/controls",
            "_model_module_version": "1.5.0",
            "value": " 999M/999M [00:25&lt;00:00, 39.6MB/s]",
            "_view_count": null,
            "_view_module_version": "1.5.0",
            "description_tooltip": null,
            "_model_module": "@jupyter-widgets/controls",
            "layout": "IPY_MODEL_ff29ca22ed544989a9f9da7d4c1ee423"
          }
        },
        "6e6170e3444f437ea3b904c9fec3e97c": {
          "model_module": "@jupyter-widgets/controls",
          "model_name": "ProgressStyleModel",
          "state": {
            "_view_name": "StyleView",
            "_model_name": "ProgressStyleModel",
            "description_width": "initial",
            "_view_module": "@jupyter-widgets/base",
            "_model_module_version": "1.5.0",
            "_view_count": null,
            "_view_module_version": "1.2.0",
            "bar_color": null,
            "_model_module": "@jupyter-widgets/controls"
          }
        },
        "16cc7f5eb7b246f6a9b94a68a85d3501": {
          "model_module": "@jupyter-widgets/base",
          "model_name": "LayoutModel",
          "state": {
            "_view_name": "LayoutView",
            "grid_template_rows": null,
            "right": null,
            "justify_content": null,
            "_view_module": "@jupyter-widgets/base",
            "overflow": null,
            "_model_module_version": "1.2.0",
            "_view_count": null,
            "flex_flow": null,
            "width": null,
            "min_width": null,
            "border": null,
            "align_items": null,
            "bottom": null,
            "_model_module": "@jupyter-widgets/base",
            "top": null,
            "grid_column": null,
            "overflow_y": null,
            "overflow_x": null,
            "grid_auto_flow": null,
            "grid_area": null,
            "grid_template_columns": null,
            "flex": null,
            "_model_name": "LayoutModel",
            "justify_items": null,
            "grid_row": null,
            "max_height": null,
            "align_content": null,
            "visibility": null,
            "align_self": null,
            "height": null,
            "min_height": null,
            "padding": null,
            "grid_auto_rows": null,
            "grid_gap": null,
            "max_width": null,
            "order": null,
            "_view_module_version": "1.2.0",
            "grid_template_areas": null,
            "object_position": null,
            "object_fit": null,
            "grid_auto_columns": null,
            "margin": null,
            "display": null,
            "left": null
          }
        },
        "5df614897f464bd89d14f72809cbca6a": {
          "model_module": "@jupyter-widgets/controls",
          "model_name": "DescriptionStyleModel",
          "state": {
            "_view_name": "StyleView",
            "_model_name": "DescriptionStyleModel",
            "description_width": "",
            "_view_module": "@jupyter-widgets/base",
            "_model_module_version": "1.5.0",
            "_view_count": null,
            "_view_module_version": "1.2.0",
            "_model_module": "@jupyter-widgets/controls"
          }
        },
        "ff29ca22ed544989a9f9da7d4c1ee423": {
          "model_module": "@jupyter-widgets/base",
          "model_name": "LayoutModel",
          "state": {
            "_view_name": "LayoutView",
            "grid_template_rows": null,
            "right": null,
            "justify_content": null,
            "_view_module": "@jupyter-widgets/base",
            "overflow": null,
            "_model_module_version": "1.2.0",
            "_view_count": null,
            "flex_flow": null,
            "width": null,
            "min_width": null,
            "border": null,
            "align_items": null,
            "bottom": null,
            "_model_module": "@jupyter-widgets/base",
            "top": null,
            "grid_column": null,
            "overflow_y": null,
            "overflow_x": null,
            "grid_auto_flow": null,
            "grid_area": null,
            "grid_template_columns": null,
            "flex": null,
            "_model_name": "LayoutModel",
            "justify_items": null,
            "grid_row": null,
            "max_height": null,
            "align_content": null,
            "visibility": null,
            "align_self": null,
            "height": null,
            "min_height": null,
            "padding": null,
            "grid_auto_rows": null,
            "grid_gap": null,
            "max_width": null,
            "order": null,
            "_view_module_version": "1.2.0",
            "grid_template_areas": null,
            "object_position": null,
            "object_fit": null,
            "grid_auto_columns": null,
            "margin": null,
            "display": null,
            "left": null
          }
        }
      }
    }
  },
  "cells": [
    {
      "cell_type": "code",
      "metadata": {
        "id": "U-wtdBqlWk_R"
      },
      "source": [
        "#!pip3 freeze > requirements.txt"
      ],
      "execution_count": 1,
      "outputs": []
    },
    {
      "cell_type": "code",
      "metadata": {
        "colab": {
          "base_uri": "https://localhost:8080/"
        },
        "id": "GRh1yiMATMcK",
        "outputId": "1f2bea4d-191a-4f4e-b9ae-e2fadddce011"
      },
      "source": [
        "#install Ktrain\n",
        "!pip install ktrain\n",
        "!pip3 install git+https://github.com/amaiya/eli5@tfkeras_0_10_1"
      ],
      "execution_count": 2,
      "outputs": [
        {
          "output_type": "stream",
          "text": [
            "Collecting ktrain\n",
            "\u001b[?25l  Downloading https://files.pythonhosted.org/packages/bb/41/d36714e51bf4e1d304f2ba80eb3c30c7eed69d72310d7f34fab86ed10b58/ktrain-0.26.4.tar.gz (25.3MB)\n",
            "\u001b[K     |████████████████████████████████| 25.3MB 116kB/s \n",
            "\u001b[?25hCollecting scikit-learn==0.23.2\n",
            "\u001b[?25l  Downloading https://files.pythonhosted.org/packages/f4/cb/64623369f348e9bfb29ff898a57ac7c91ed4921f228e9726546614d63ccb/scikit_learn-0.23.2-cp37-cp37m-manylinux1_x86_64.whl (6.8MB)\n",
            "\u001b[K     |████████████████████████████████| 6.8MB 19.5MB/s \n",
            "\u001b[?25hRequirement already satisfied: matplotlib>=3.0.0 in /usr/local/lib/python3.7/dist-packages (from ktrain) (3.2.2)\n",
            "Requirement already satisfied: pandas>=1.0.1 in /usr/local/lib/python3.7/dist-packages (from ktrain) (1.1.5)\n",
            "Requirement already satisfied: fastprogress>=0.1.21 in /usr/local/lib/python3.7/dist-packages (from ktrain) (1.0.0)\n",
            "Requirement already satisfied: requests in /usr/local/lib/python3.7/dist-packages (from ktrain) (2.23.0)\n",
            "Requirement already satisfied: joblib in /usr/local/lib/python3.7/dist-packages (from ktrain) (1.0.1)\n",
            "Requirement already satisfied: packaging in /usr/local/lib/python3.7/dist-packages (from ktrain) (20.9)\n",
            "Requirement already satisfied: ipython in /usr/local/lib/python3.7/dist-packages (from ktrain) (5.5.0)\n",
            "Collecting langdetect\n",
            "\u001b[?25l  Downloading https://files.pythonhosted.org/packages/0e/72/a3add0e4eec4eb9e2569554f7c70f4a3c27712f40e3284d483e88094cc0e/langdetect-1.0.9.tar.gz (981kB)\n",
            "\u001b[K     |████████████████████████████████| 983kB 32.7MB/s \n",
            "\u001b[?25hRequirement already satisfied: jieba in /usr/local/lib/python3.7/dist-packages (from ktrain) (0.42.1)\n",
            "Collecting cchardet\n",
            "\u001b[?25l  Downloading https://files.pythonhosted.org/packages/80/72/a4fba7559978de00cf44081c548c5d294bf00ac7dcda2db405d2baa8c67a/cchardet-2.1.7-cp37-cp37m-manylinux2010_x86_64.whl (263kB)\n",
            "\u001b[K     |████████████████████████████████| 266kB 38.9MB/s \n",
            "\u001b[?25hCollecting syntok\n",
            "  Downloading https://files.pythonhosted.org/packages/8c/76/a49e73a04b3e3a14ce232e8e28a1587f8108baa665644fe8c40e307e792e/syntok-1.3.1.tar.gz\n",
            "Collecting seqeval==0.0.19\n",
            "  Downloading https://files.pythonhosted.org/packages/93/e5/b7705156a77f742cfe4fc6f22d0c71591edb2d243328dff2f8fc0f933ab6/seqeval-0.0.19.tar.gz\n",
            "Collecting transformers<=4.3.3,>=4.0.0\n",
            "\u001b[?25l  Downloading https://files.pythonhosted.org/packages/f9/54/5ca07ec9569d2f232f3166de5457b63943882f7950ddfcc887732fc7fb23/transformers-4.3.3-py3-none-any.whl (1.9MB)\n",
            "\u001b[K     |████████████████████████████████| 1.9MB 28.7MB/s \n",
            "\u001b[?25hCollecting sentencepiece\n",
            "\u001b[?25l  Downloading https://files.pythonhosted.org/packages/ac/aa/1437691b0c7c83086ebb79ce2da16e00bef024f24fec2a5161c35476f499/sentencepiece-0.1.96-cp37-cp37m-manylinux_2_17_x86_64.manylinux2014_x86_64.whl (1.2MB)\n",
            "\u001b[K     |████████████████████████████████| 1.2MB 26.6MB/s \n",
            "\u001b[?25hCollecting keras_bert>=0.86.0\n",
            "  Downloading https://files.pythonhosted.org/packages/6a/e4/3b2e2927c15c22f44005cb0ab0eaf2f7e623ea2b6488e4b7c5aca6c162c2/keras-bert-0.88.0.tar.gz\n",
            "Requirement already satisfied: networkx>=2.3 in /usr/local/lib/python3.7/dist-packages (from ktrain) (2.5.1)\n",
            "Collecting whoosh\n",
            "\u001b[?25l  Downloading https://files.pythonhosted.org/packages/ba/19/24d0f1f454a2c1eb689ca28d2f178db81e5024f42d82729a4ff6771155cf/Whoosh-2.7.4-py2.py3-none-any.whl (468kB)\n",
            "\u001b[K     |████████████████████████████████| 471kB 40.8MB/s \n",
            "\u001b[?25hCollecting threadpoolctl>=2.0.0\n",
            "  Downloading https://files.pythonhosted.org/packages/f7/12/ec3f2e203afa394a149911729357aa48affc59c20e2c1c8297a60f33f133/threadpoolctl-2.1.0-py3-none-any.whl\n",
            "Requirement already satisfied: numpy>=1.13.3 in /usr/local/lib/python3.7/dist-packages (from scikit-learn==0.23.2->ktrain) (1.19.5)\n",
            "Requirement already satisfied: scipy>=0.19.1 in /usr/local/lib/python3.7/dist-packages (from scikit-learn==0.23.2->ktrain) (1.4.1)\n",
            "Requirement already satisfied: python-dateutil>=2.1 in /usr/local/lib/python3.7/dist-packages (from matplotlib>=3.0.0->ktrain) (2.8.1)\n",
            "Requirement already satisfied: pyparsing!=2.0.4,!=2.1.2,!=2.1.6,>=2.0.1 in /usr/local/lib/python3.7/dist-packages (from matplotlib>=3.0.0->ktrain) (2.4.7)\n",
            "Requirement already satisfied: cycler>=0.10 in /usr/local/lib/python3.7/dist-packages (from matplotlib>=3.0.0->ktrain) (0.10.0)\n",
            "Requirement already satisfied: kiwisolver>=1.0.1 in /usr/local/lib/python3.7/dist-packages (from matplotlib>=3.0.0->ktrain) (1.3.1)\n",
            "Requirement already satisfied: pytz>=2017.2 in /usr/local/lib/python3.7/dist-packages (from pandas>=1.0.1->ktrain) (2018.9)\n",
            "Requirement already satisfied: idna<3,>=2.5 in /usr/local/lib/python3.7/dist-packages (from requests->ktrain) (2.10)\n",
            "Requirement already satisfied: certifi>=2017.4.17 in /usr/local/lib/python3.7/dist-packages (from requests->ktrain) (2021.5.30)\n",
            "Requirement already satisfied: urllib3!=1.25.0,!=1.25.1,<1.26,>=1.21.1 in /usr/local/lib/python3.7/dist-packages (from requests->ktrain) (1.24.3)\n",
            "Requirement already satisfied: chardet<4,>=3.0.2 in /usr/local/lib/python3.7/dist-packages (from requests->ktrain) (3.0.4)\n",
            "Requirement already satisfied: setuptools>=18.5 in /usr/local/lib/python3.7/dist-packages (from ipython->ktrain) (57.0.0)\n",
            "Requirement already satisfied: simplegeneric>0.8 in /usr/local/lib/python3.7/dist-packages (from ipython->ktrain) (0.8.1)\n",
            "Requirement already satisfied: pygments in /usr/local/lib/python3.7/dist-packages (from ipython->ktrain) (2.6.1)\n",
            "Requirement already satisfied: prompt-toolkit<2.0.0,>=1.0.4 in /usr/local/lib/python3.7/dist-packages (from ipython->ktrain) (1.0.18)\n",
            "Requirement already satisfied: traitlets>=4.2 in /usr/local/lib/python3.7/dist-packages (from ipython->ktrain) (5.0.5)\n",
            "Requirement already satisfied: decorator in /usr/local/lib/python3.7/dist-packages (from ipython->ktrain) (4.4.2)\n",
            "Requirement already satisfied: pexpect; sys_platform != \"win32\" in /usr/local/lib/python3.7/dist-packages (from ipython->ktrain) (4.8.0)\n",
            "Requirement already satisfied: pickleshare in /usr/local/lib/python3.7/dist-packages (from ipython->ktrain) (0.7.5)\n",
            "Requirement already satisfied: six in /usr/local/lib/python3.7/dist-packages (from langdetect->ktrain) (1.15.0)\n",
            "Requirement already satisfied: regex in /usr/local/lib/python3.7/dist-packages (from syntok->ktrain) (2019.12.20)\n",
            "Requirement already satisfied: Keras>=2.2.4 in /usr/local/lib/python3.7/dist-packages (from seqeval==0.0.19->ktrain) (2.4.3)\n",
            "Requirement already satisfied: importlib-metadata; python_version < \"3.8\" in /usr/local/lib/python3.7/dist-packages (from transformers<=4.3.3,>=4.0.0->ktrain) (4.5.0)\n",
            "Collecting tokenizers<0.11,>=0.10.1\n",
            "\u001b[?25l  Downloading https://files.pythonhosted.org/packages/d4/e2/df3543e8ffdab68f5acc73f613de9c2b155ac47f162e725dcac87c521c11/tokenizers-0.10.3-cp37-cp37m-manylinux_2_5_x86_64.manylinux1_x86_64.manylinux_2_12_x86_64.manylinux2010_x86_64.whl (3.3MB)\n",
            "\u001b[K     |████████████████████████████████| 3.3MB 24.5MB/s \n",
            "\u001b[?25hRequirement already satisfied: tqdm>=4.27 in /usr/local/lib/python3.7/dist-packages (from transformers<=4.3.3,>=4.0.0->ktrain) (4.41.1)\n",
            "Collecting sacremoses\n",
            "\u001b[?25l  Downloading https://files.pythonhosted.org/packages/75/ee/67241dc87f266093c533a2d4d3d69438e57d7a90abb216fa076e7d475d4a/sacremoses-0.0.45-py3-none-any.whl (895kB)\n",
            "\u001b[K     |████████████████████████████████| 901kB 26.4MB/s \n",
            "\u001b[?25hRequirement already satisfied: filelock in /usr/local/lib/python3.7/dist-packages (from transformers<=4.3.3,>=4.0.0->ktrain) (3.0.12)\n",
            "Collecting keras-transformer>=0.39.0\n",
            "  Downloading https://files.pythonhosted.org/packages/8a/35/6b079e920fe09a9349028bc2f209447e5636d90e29c5cf060bcc3177803a/keras-transformer-0.39.0.tar.gz\n",
            "Requirement already satisfied: wcwidth in /usr/local/lib/python3.7/dist-packages (from prompt-toolkit<2.0.0,>=1.0.4->ipython->ktrain) (0.2.5)\n",
            "Requirement already satisfied: ipython-genutils in /usr/local/lib/python3.7/dist-packages (from traitlets>=4.2->ipython->ktrain) (0.2.0)\n",
            "Requirement already satisfied: ptyprocess>=0.5 in /usr/local/lib/python3.7/dist-packages (from pexpect; sys_platform != \"win32\"->ipython->ktrain) (0.7.0)\n",
            "Requirement already satisfied: h5py in /usr/local/lib/python3.7/dist-packages (from Keras>=2.2.4->seqeval==0.0.19->ktrain) (3.1.0)\n",
            "Requirement already satisfied: pyyaml in /usr/local/lib/python3.7/dist-packages (from Keras>=2.2.4->seqeval==0.0.19->ktrain) (3.13)\n",
            "Requirement already satisfied: typing-extensions>=3.6.4; python_version < \"3.8\" in /usr/local/lib/python3.7/dist-packages (from importlib-metadata; python_version < \"3.8\"->transformers<=4.3.3,>=4.0.0->ktrain) (3.7.4.3)\n",
            "Requirement already satisfied: zipp>=0.5 in /usr/local/lib/python3.7/dist-packages (from importlib-metadata; python_version < \"3.8\"->transformers<=4.3.3,>=4.0.0->ktrain) (3.4.1)\n",
            "Requirement already satisfied: click in /usr/local/lib/python3.7/dist-packages (from sacremoses->transformers<=4.3.3,>=4.0.0->ktrain) (7.1.2)\n",
            "Collecting keras-pos-embd>=0.12.0\n",
            "  Downloading https://files.pythonhosted.org/packages/d8/d2/1cc072ea68b573f366e08936177a33e237e66fa7d5338289d4bee64696cf/keras-pos-embd-0.12.0.tar.gz\n",
            "Collecting keras-multi-head>=0.28.0\n",
            "  Downloading https://files.pythonhosted.org/packages/a5/e6/a83f26b2e1582de237b125f595874d808e40698f31d44d5903e872d5b64d/keras-multi-head-0.28.0.tar.gz\n",
            "Collecting keras-layer-normalization>=0.15.0\n",
            "  Downloading https://files.pythonhosted.org/packages/33/e1/0da586d544a0940a56a2f4aa704b7dbd95eaa8ceda6168b48f5ac95e6608/keras-layer-normalization-0.15.0.tar.gz\n",
            "Collecting keras-position-wise-feed-forward>=0.7.0\n",
            "  Downloading https://files.pythonhosted.org/packages/58/02/cd3e7e51cf45d3825818384a2f7d9c340b60c9bf55a5682b7318e1c16eab/keras-position-wise-feed-forward-0.7.0.tar.gz\n",
            "Collecting keras-embed-sim>=0.9.0\n",
            "  Downloading https://files.pythonhosted.org/packages/2d/48/78f6d134f1ede597d91186819c9e428ada51cd8d9ea28e5faf37ed2ee602/keras-embed-sim-0.9.0.tar.gz\n",
            "Requirement already satisfied: cached-property; python_version < \"3.8\" in /usr/local/lib/python3.7/dist-packages (from h5py->Keras>=2.2.4->seqeval==0.0.19->ktrain) (1.5.2)\n",
            "Collecting keras-self-attention>=0.50.0\n",
            "  Downloading https://files.pythonhosted.org/packages/ea/75/e6bc5b43ee968fef714f2f10a2a1674639ec85d2428cc47b2fe1f9af0115/keras-self-attention-0.50.0.tar.gz\n",
            "Building wheels for collected packages: ktrain, langdetect, syntok, seqeval, keras-bert, keras-transformer, keras-pos-embd, keras-multi-head, keras-layer-normalization, keras-position-wise-feed-forward, keras-embed-sim, keras-self-attention\n",
            "  Building wheel for ktrain (setup.py) ... \u001b[?25l\u001b[?25hdone\n",
            "  Created wheel for ktrain: filename=ktrain-0.26.4-cp37-none-any.whl size=25282461 sha256=db907924eadd5624a506eac018537f0fa322641daab71611af754323748fc63e\n",
            "  Stored in directory: /root/.cache/pip/wheels/95/cc/1b/84c3799864cd864b99d94a8aeac2ee2d928fb3d0ec3d3f1a13\n",
            "  Building wheel for langdetect (setup.py) ... \u001b[?25l\u001b[?25hdone\n",
            "  Created wheel for langdetect: filename=langdetect-1.0.9-cp37-none-any.whl size=993242 sha256=1709f36ebf8c2376890dbb34c6b991d7457e01d7d78cb69aeeb93fcde4a79b47\n",
            "  Stored in directory: /root/.cache/pip/wheels/7e/18/13/038c34057808931c7ddc6c92d3aa015cf1a498df5a70268996\n",
            "  Building wheel for syntok (setup.py) ... \u001b[?25l\u001b[?25hdone\n",
            "  Created wheel for syntok: filename=syntok-1.3.1-cp37-none-any.whl size=20919 sha256=a1a532eaa3e8cb9b3731bc7806df62c546dc55860f9fa3c6da650ece1f8c972c\n",
            "  Stored in directory: /root/.cache/pip/wheels/51/c6/a4/be1920586c49469846bcd2888200bdecfe109ec421dab9be2d\n",
            "  Building wheel for seqeval (setup.py) ... \u001b[?25l\u001b[?25hdone\n",
            "  Created wheel for seqeval: filename=seqeval-0.0.19-cp37-none-any.whl size=9932 sha256=b4b928ecacdb46333385b79f1cd99132a3ad481c14424ae69fce278c6221e5d8\n",
            "  Stored in directory: /root/.cache/pip/wheels/8d/1f/bf/1198beceed805a2099060975f6281d1b01046dd279e19c97be\n",
            "  Building wheel for keras-bert (setup.py) ... \u001b[?25l\u001b[?25hdone\n",
            "  Created wheel for keras-bert: filename=keras_bert-0.88.0-cp37-none-any.whl size=34206 sha256=7f82294b48e68368f468a4a2e853dd6127d6696dba743fca3d664a0a7a4eca2e\n",
            "  Stored in directory: /root/.cache/pip/wheels/7f/d8/86/b4d91b941f6f3256c487b258d5e4268a3301203b717dd11f11\n",
            "  Building wheel for keras-transformer (setup.py) ... \u001b[?25l\u001b[?25hdone\n",
            "  Created wheel for keras-transformer: filename=keras_transformer-0.39.0-cp37-none-any.whl size=12841 sha256=8c74b291b2c069c0f56cc3bf1966c945912236ee8806d8af2e15b79f8dc403d1\n",
            "  Stored in directory: /root/.cache/pip/wheels/77/42/35/d33c5907bca04ac5742e9eceefb644b680286de26728506a70\n",
            "  Building wheel for keras-pos-embd (setup.py) ... \u001b[?25l\u001b[?25hdone\n",
            "  Created wheel for keras-pos-embd: filename=keras_pos_embd-0.12.0-cp37-none-any.whl size=7471 sha256=2c7370e3a3b89e2f0d31d6ca83e1ad5c4a20c63c7d0f8c7bf8ee75c15d41de44\n",
            "  Stored in directory: /root/.cache/pip/wheels/36/d8/36/06ed09215806dca9ff504d8c0dda5da68d7f2c67d34a231d82\n",
            "  Building wheel for keras-multi-head (setup.py) ... \u001b[?25l\u001b[?25hdone\n",
            "  Created wheel for keras-multi-head: filename=keras_multi_head-0.28.0-cp37-none-any.whl size=15559 sha256=a5923ae0c5249a14e1466791a5c856214c5d35d4d0da5ae3b7fdd3644ef43e1b\n",
            "  Stored in directory: /root/.cache/pip/wheels/ec/92/bd/b3407bc29501f7e28eb970a6c425a9a375485c5d8197df6a8f\n",
            "  Building wheel for keras-layer-normalization (setup.py) ... \u001b[?25l\u001b[?25hdone\n",
            "  Created wheel for keras-layer-normalization: filename=keras_layer_normalization-0.15.0-cp37-none-any.whl size=5224 sha256=c7c536699b34095696ce293b6a5593fbdbc761cdff3fcb0d57f308dc0cd69446\n",
            "  Stored in directory: /root/.cache/pip/wheels/de/ea/db/833c8a9b8326e703e9f8a78c0d4153294e6a1b1f97a1836397\n",
            "  Building wheel for keras-position-wise-feed-forward (setup.py) ... \u001b[?25l\u001b[?25hdone\n",
            "  Created wheel for keras-position-wise-feed-forward: filename=keras_position_wise_feed_forward-0.7.0-cp37-none-any.whl size=5542 sha256=eb483d30aa0634c00e318664f9797182c5a6348a2a2af692a105568f96c74aa2\n",
            "  Stored in directory: /root/.cache/pip/wheels/d2/d2/f6/58ce0aae0055dbccba8b40e62a6c22ab997105ad8c431a9e80\n",
            "  Building wheel for keras-embed-sim (setup.py) ... \u001b[?25l\u001b[?25hdone\n",
            "  Created wheel for keras-embed-sim: filename=keras_embed_sim-0.9.0-cp37-none-any.whl size=4505 sha256=f9f96b081429860248f608cbf46f06836a82414d80f4fbbd9aee8dd0c9da3063\n",
            "  Stored in directory: /root/.cache/pip/wheels/c1/d5/7d/bef5ee93c88bc6150294cc74cbb081647c505bf816918dd7ff\n",
            "  Building wheel for keras-self-attention (setup.py) ... \u001b[?25l\u001b[?25hdone\n",
            "  Created wheel for keras-self-attention: filename=keras_self_attention-0.50.0-cp37-none-any.whl size=19416 sha256=7c359b1248d6fb04a3d73b67c4c29f50b2d1f3283cacbda687b98e34dcbe3419\n",
            "  Stored in directory: /root/.cache/pip/wheels/29/93/0d/891573db60f74d0e43bd7db1496c3ef898f8b5946a4c24cbda\n",
            "Successfully built ktrain langdetect syntok seqeval keras-bert keras-transformer keras-pos-embd keras-multi-head keras-layer-normalization keras-position-wise-feed-forward keras-embed-sim keras-self-attention\n",
            "Installing collected packages: threadpoolctl, scikit-learn, langdetect, cchardet, syntok, seqeval, tokenizers, sacremoses, transformers, sentencepiece, keras-pos-embd, keras-self-attention, keras-multi-head, keras-layer-normalization, keras-position-wise-feed-forward, keras-embed-sim, keras-transformer, keras-bert, whoosh, ktrain\n",
            "  Found existing installation: scikit-learn 0.22.2.post1\n",
            "    Uninstalling scikit-learn-0.22.2.post1:\n",
            "      Successfully uninstalled scikit-learn-0.22.2.post1\n",
            "Successfully installed cchardet-2.1.7 keras-bert-0.88.0 keras-embed-sim-0.9.0 keras-layer-normalization-0.15.0 keras-multi-head-0.28.0 keras-pos-embd-0.12.0 keras-position-wise-feed-forward-0.7.0 keras-self-attention-0.50.0 keras-transformer-0.39.0 ktrain-0.26.4 langdetect-1.0.9 sacremoses-0.0.45 scikit-learn-0.23.2 sentencepiece-0.1.96 seqeval-0.0.19 syntok-1.3.1 threadpoolctl-2.1.0 tokenizers-0.10.3 transformers-4.3.3 whoosh-2.7.4\n",
            "Collecting git+https://github.com/amaiya/eli5@tfkeras_0_10_1\n",
            "  Cloning https://github.com/amaiya/eli5 (to revision tfkeras_0_10_1) to /tmp/pip-req-build-00oau9ol\n",
            "  Running command git clone -q https://github.com/amaiya/eli5 /tmp/pip-req-build-00oau9ol\n",
            "  Running command git checkout -b tfkeras_0_10_1 --track origin/tfkeras_0_10_1\n",
            "  Switched to a new branch 'tfkeras_0_10_1'\n",
            "  Branch 'tfkeras_0_10_1' set up to track remote branch 'tfkeras_0_10_1' from 'origin'.\n",
            "Requirement already satisfied: attrs>16.0.0 in /usr/local/lib/python3.7/dist-packages (from eli5==0.10.1) (21.2.0)\n",
            "Requirement already satisfied: jinja2 in /usr/local/lib/python3.7/dist-packages (from eli5==0.10.1) (2.11.3)\n",
            "Requirement already satisfied: numpy>=1.9.0 in /usr/local/lib/python3.7/dist-packages (from eli5==0.10.1) (1.19.5)\n",
            "Requirement already satisfied: scipy in /usr/local/lib/python3.7/dist-packages (from eli5==0.10.1) (1.4.1)\n",
            "Requirement already satisfied: six in /usr/local/lib/python3.7/dist-packages (from eli5==0.10.1) (1.15.0)\n",
            "Requirement already satisfied: scikit-learn>=0.18 in /usr/local/lib/python3.7/dist-packages (from eli5==0.10.1) (0.23.2)\n",
            "Requirement already satisfied: graphviz in /usr/local/lib/python3.7/dist-packages (from eli5==0.10.1) (0.10.1)\n",
            "Requirement already satisfied: tabulate>=0.7.7 in /usr/local/lib/python3.7/dist-packages (from eli5==0.10.1) (0.8.9)\n",
            "Requirement already satisfied: MarkupSafe>=0.23 in /usr/local/lib/python3.7/dist-packages (from jinja2->eli5==0.10.1) (2.0.1)\n",
            "Requirement already satisfied: joblib>=0.11 in /usr/local/lib/python3.7/dist-packages (from scikit-learn>=0.18->eli5==0.10.1) (1.0.1)\n",
            "Requirement already satisfied: threadpoolctl>=2.0.0 in /usr/local/lib/python3.7/dist-packages (from scikit-learn>=0.18->eli5==0.10.1) (2.1.0)\n",
            "Building wheels for collected packages: eli5\n",
            "  Building wheel for eli5 (setup.py) ... \u001b[?25l\u001b[?25hdone\n",
            "  Created wheel for eli5: filename=eli5-0.10.1-py2.py3-none-any.whl size=106850 sha256=aa4909d0e0ba133d380cb48a09a159fd4e29e3e476cdf1e9721625ef726510ca\n",
            "  Stored in directory: /tmp/pip-ephem-wheel-cache-fnvm7838/wheels/51/59/0a/0f48442b8d209583a4453580938d7ba2270aca40edacee6d45\n",
            "Successfully built eli5\n",
            "Installing collected packages: eli5\n",
            "Successfully installed eli5-0.10.1\n"
          ],
          "name": "stdout"
        }
      ]
    },
    {
      "cell_type": "code",
      "metadata": {
        "id": "Ysp2WnimR_Wh"
      },
      "source": [
        "#Import required libraries\n",
        "from google.colab import files\n",
        "import pandas as pd\n",
        "import io\n",
        "import pandas as pd\n",
        "import numpy as np\n",
        "import ktrain\n",
        "\n",
        "\n",
        "import tensorflow as tf\n",
        "from ktrain import text\n",
        "from google.colab import drive\n",
        "from sklearn.model_selection import train_test_split\n",
        "import os\n",
        "import io\n",
        "import requests\n",
        "import shutil\n",
        "import tensorflow as tf\n",
        "from tensorflow import keras\n",
        "import numpy as np\n",
        "import pandas as pd\n",
        "from sklearn.model_selection import train_test_split\n",
        "\n",
        "import matplotlib.pyplot as plt\n",
        "%matplotlib inline"
      ],
      "execution_count": 3,
      "outputs": []
    },
    {
      "cell_type": "code",
      "metadata": {
        "id": "TDsK1WD6SkH6"
      },
      "source": [
        "def load_dataset(url: str, sep: str = ',', decode: str = 'utf-8', keep_default_na: bool = True, error_bad_lines: bool = True):\n",
        "    def requests_csv(url: str, decode: str):\n",
        "        return (requests.get(url).content).decode(decode)\n",
        "    \n",
        "    return pd.read_csv(io.StringIO(requests_csv(url, decode)),\n",
        "                       sep=sep,\n",
        "                       keep_default_na=keep_default_na,\n",
        "                       error_bad_lines=error_bad_lines\n",
        "                       )\n",
        "url_dataset = \"https://media.githubusercontent.com/media/Y4rd13/datasets/main/upwork_dataset.csv\"                      "
      ],
      "execution_count": 4,
      "outputs": []
    },
    {
      "cell_type": "code",
      "metadata": {
        "colab": {
          "base_uri": "https://localhost:8080/",
          "height": 289
        },
        "id": "sIPWGJ3qRVcJ",
        "outputId": "6c83b122-ade1-4ed9-d3df-82d2cc2b130e"
      },
      "source": [
        "df = load_dataset(url_dataset, decode=\"cp1252\", keep_default_na=True, error_bad_lines=True)\n",
        "df.head()"
      ],
      "execution_count": 5,
      "outputs": [
        {
          "output_type": "execute_result",
          "data": {
            "text/html": [
              "<div>\n",
              "<style scoped>\n",
              "    .dataframe tbody tr th:only-of-type {\n",
              "        vertical-align: middle;\n",
              "    }\n",
              "\n",
              "    .dataframe tbody tr th {\n",
              "        vertical-align: top;\n",
              "    }\n",
              "\n",
              "    .dataframe thead th {\n",
              "        text-align: right;\n",
              "    }\n",
              "</style>\n",
              "<table border=\"1\" class=\"dataframe\">\n",
              "  <thead>\n",
              "    <tr style=\"text-align: right;\">\n",
              "      <th></th>\n",
              "      <th>title</th>\n",
              "      <th>jobRegion</th>\n",
              "      <th>jobText</th>\n",
              "      <th>jobExperienceLevel</th>\n",
              "      <th>jobType</th>\n",
              "      <th>clientLocation</th>\n",
              "      <th>clientRating</th>\n",
              "      <th>approved</th>\n",
              "    </tr>\n",
              "  </thead>\n",
              "  <tbody>\n",
              "    <tr>\n",
              "      <th>0</th>\n",
              "      <td>Web Design &amp; Development Team (on-going work)</td>\n",
              "      <td>Worldwide</td>\n",
              "      <td>We need a team that is capable of working with...</td>\n",
              "      <td>Expert</td>\n",
              "      <td>Complex project</td>\n",
              "      <td>United States</td>\n",
              "      <td>5.0</td>\n",
              "      <td>1</td>\n",
              "    </tr>\n",
              "    <tr>\n",
              "      <th>1</th>\n",
              "      <td>Website development</td>\n",
              "      <td>Worldwide</td>\n",
              "      <td>We are looking for someone to build a website ...</td>\n",
              "      <td>Expert</td>\n",
              "      <td>One-time project</td>\n",
              "      <td>United States</td>\n",
              "      <td>5.0</td>\n",
              "      <td>1</td>\n",
              "    </tr>\n",
              "    <tr>\n",
              "      <th>2</th>\n",
              "      <td>Auction Website to sell Household items</td>\n",
              "      <td>Worldwide</td>\n",
              "      <td>I am looking to hire a Agency or freelancers w...</td>\n",
              "      <td>Expert</td>\n",
              "      <td>Complex project</td>\n",
              "      <td>United States</td>\n",
              "      <td>0.0</td>\n",
              "      <td>0</td>\n",
              "    </tr>\n",
              "    <tr>\n",
              "      <th>3</th>\n",
              "      <td>App development (Android &amp; iOS)</td>\n",
              "      <td>Worldwide</td>\n",
              "      <td>I'm looking for someone that can make a comple...</td>\n",
              "      <td>Intermediate</td>\n",
              "      <td>One-time project</td>\n",
              "      <td>Sweden</td>\n",
              "      <td>4.0</td>\n",
              "      <td>0</td>\n",
              "    </tr>\n",
              "    <tr>\n",
              "      <th>4</th>\n",
              "      <td>Mobile App Development (Media playback app)</td>\n",
              "      <td>Worldwide</td>\n",
              "      <td>-What the deliverable is an audio player mobil...</td>\n",
              "      <td>Intermediate</td>\n",
              "      <td>One-time project</td>\n",
              "      <td>United States</td>\n",
              "      <td>5.0</td>\n",
              "      <td>0</td>\n",
              "    </tr>\n",
              "  </tbody>\n",
              "</table>\n",
              "</div>"
            ],
            "text/plain": [
              "                                           title  ... approved\n",
              "0  Web Design & Development Team (on-going work)  ...        1\n",
              "1                            Website development  ...        1\n",
              "2        Auction Website to sell Household items  ...        0\n",
              "3                App development (Android & iOS)  ...        0\n",
              "4    Mobile App Development (Media playback app)  ...        0\n",
              "\n",
              "[5 rows x 8 columns]"
            ]
          },
          "metadata": {
            "tags": []
          },
          "execution_count": 5
        }
      ]
    },
    {
      "cell_type": "code",
      "metadata": {
        "id": "FhxdkvK2VFb6"
      },
      "source": [
        "def check_duplicated(df: pd.core.frame.DataFrame, subset: str, verbose: int = 0):\n",
        "    \"\"\"Check duplicated data in the subset of a dataframe.\n",
        "\n",
        "    Parameters\n",
        "    ----------\n",
        "    df : pd.core.frame.DataFrame\n",
        "        dataframe\n",
        "    subset : str\n",
        "        column to be checked\n",
        "    verbose : int = 0\n",
        "        0 or 1. Verbosity mode. 0 = silent, 1 = shape of the dataframe.\n",
        "    \n",
        "    Returns\n",
        "    -------\n",
        "    duplicated data info and preprocessing\n",
        "    \"\"\"\n",
        "    check = df.duplicated(subset=subset)\n",
        "    idx = 0\n",
        "    if check.any() == False:\n",
        "        print('No duplicates found')\n",
        "    \n",
        "    else:\n",
        "        for i in check:\n",
        "            if i == True:\n",
        "                idx+=1\n",
        "\n",
        "        print('Total of duplicates: {}'.format(idx))\n",
        "\n",
        "    if verbose == 1:\n",
        "        duplicates = idx\n",
        "        total, __ = df.shape\n",
        "        \n",
        "        print('Dataframe shape: {}'.format(df.shape))\n",
        "        \n",
        "        if duplicates != 0:\n",
        "            print('Dataframe without duplicates: {}'.format(total - duplicates))"
      ],
      "execution_count": 6,
      "outputs": []
    },
    {
      "cell_type": "code",
      "metadata": {
        "colab": {
          "base_uri": "https://localhost:8080/"
        },
        "id": "djRLwt2xVJ1H",
        "outputId": "7dc937be-fc8b-41b7-afe5-238cbc770fce"
      },
      "source": [
        "# Lets check if the dataset have any duplicates with our utils function\n",
        "check_duplicated(df, subset='jobText', verbose=True)"
      ],
      "execution_count": 7,
      "outputs": [
        {
          "output_type": "stream",
          "text": [
            "Total of duplicates: 28\n",
            "Dataframe shape: (4384, 8)\n",
            "Dataframe without duplicates: 4356\n"
          ],
          "name": "stdout"
        }
      ]
    },
    {
      "cell_type": "code",
      "metadata": {
        "colab": {
          "base_uri": "https://localhost:8080/"
        },
        "id": "Ns3dH4GXVlUp",
        "outputId": "632cbec0-d4e3-4bb0-c0bb-44dde3125124"
      },
      "source": [
        "df.dtypes"
      ],
      "execution_count": 8,
      "outputs": [
        {
          "output_type": "execute_result",
          "data": {
            "text/plain": [
              "title                  object\n",
              "jobRegion              object\n",
              "jobText                object\n",
              "jobExperienceLevel     object\n",
              "jobType                object\n",
              "clientLocation         object\n",
              "clientRating          float64\n",
              "approved                int64\n",
              "dtype: object"
            ]
          },
          "metadata": {
            "tags": []
          },
          "execution_count": 8
        }
      ]
    },
    {
      "cell_type": "markdown",
      "metadata": {
        "papermill": {
          "duration": 0.072781,
          "end_time": "2021-01-14T22:02:35.674401",
          "exception": false,
          "start_time": "2021-01-14T22:02:35.601620",
          "status": "completed"
        },
        "tags": [],
        "id": "ooxMvtlLlpWa"
      },
      "source": [
        "Checking version of TF, so that when later we will reload the model, we can use same version of TF:"
      ]
    },
    {
      "cell_type": "code",
      "metadata": {
        "execution": {
          "iopub.execute_input": "2021-01-14T22:02:35.828344Z",
          "iopub.status.busy": "2021-01-14T22:02:35.827772Z",
          "iopub.status.idle": "2021-01-14T22:02:35.833941Z",
          "shell.execute_reply": "2021-01-14T22:02:35.833533Z"
        },
        "papermill": {
          "duration": 0.084949,
          "end_time": "2021-01-14T22:02:35.834030",
          "exception": false,
          "start_time": "2021-01-14T22:02:35.749081",
          "status": "completed"
        },
        "tags": [],
        "trusted": true,
        "id": "OlExZAiAlpWb",
        "colab": {
          "base_uri": "https://localhost:8080/",
          "height": 35
        },
        "outputId": "e7fbbc78-64f7-4da4-dee8-4a9b4eed2f21"
      },
      "source": [
        "#check tensorflow version\n",
        "tf.version.VERSION"
      ],
      "execution_count": 9,
      "outputs": [
        {
          "output_type": "execute_result",
          "data": {
            "application/vnd.google.colaboratory.intrinsic+json": {
              "type": "string"
            },
            "text/plain": [
              "'2.5.0'"
            ]
          },
          "metadata": {
            "tags": []
          },
          "execution_count": 9
        }
      ]
    },
    {
      "cell_type": "markdown",
      "metadata": {
        "papermill": {
          "duration": 0.073773,
          "end_time": "2021-01-14T22:02:35.981577",
          "exception": false,
          "start_time": "2021-01-14T22:02:35.907804",
          "status": "completed"
        },
        "tags": [],
        "id": "K2fCFXXOlpWb"
      },
      "source": [
        "# Preparing our train and test dataset:"
      ]
    },
    {
      "cell_type": "markdown",
      "metadata": {
        "papermill": {
          "duration": 0.073459,
          "end_time": "2021-01-14T22:02:36.129190",
          "exception": false,
          "start_time": "2021-01-14T22:02:36.055731",
          "status": "completed"
        },
        "tags": [],
        "id": "RFr_B_rElpWc"
      },
      "source": [
        "Get data loaded from train.txt to df_train dataframe and teast.txt to df_test dataframe."
      ]
    },
    {
      "cell_type": "code",
      "metadata": {
        "execution": {
          "iopub.execute_input": "2021-01-14T22:02:36.959266Z",
          "iopub.status.busy": "2021-01-14T22:02:36.958699Z",
          "iopub.status.idle": "2021-01-14T22:02:37.256041Z",
          "shell.execute_reply": "2021-01-14T22:02:37.254970Z"
        },
        "papermill": {
          "duration": 0.381022,
          "end_time": "2021-01-14T22:02:37.256186",
          "exception": false,
          "start_time": "2021-01-14T22:02:36.875164",
          "status": "completed"
        },
        "tags": [],
        "trusted": true,
        "id": "BrPBz5ellpWd"
      },
      "source": [
        "df['approved'] = df['approved'].astype(str)\n",
        "df['jobText'] = df['jobText'].astype(str)"
      ],
      "execution_count": 10,
      "outputs": []
    },
    {
      "cell_type": "code",
      "metadata": {
        "execution": {
          "iopub.execute_input": "2021-01-14T22:02:37.410802Z",
          "iopub.status.busy": "2021-01-14T22:02:37.410031Z",
          "iopub.status.idle": "2021-01-14T22:02:37.452156Z",
          "shell.execute_reply": "2021-01-14T22:02:37.451689Z"
        },
        "papermill": {
          "duration": 0.120424,
          "end_time": "2021-01-14T22:02:37.452279",
          "exception": false,
          "start_time": "2021-01-14T22:02:37.331855",
          "status": "completed"
        },
        "tags": [],
        "trusted": true,
        "id": "NeXeF485lpWd"
      },
      "source": [
        "#Splitting the data : train and val\n",
        "df_train,df_test = train_test_split(df , test_size=0.2, random_state=42)"
      ],
      "execution_count": 11,
      "outputs": []
    },
    {
      "cell_type": "markdown",
      "metadata": {
        "papermill": {
          "duration": 0.073179,
          "end_time": "2021-01-14T22:02:37.756190",
          "exception": false,
          "start_time": "2021-01-14T22:02:37.683011",
          "status": "completed"
        },
        "tags": [],
        "id": "jFbaNvYIlpWe"
      },
      "source": [
        "Checking first few rows of our train dataset."
      ]
    },
    {
      "cell_type": "code",
      "metadata": {
        "_cell_guid": "79c7e3d0-c299-4dcb-8224-4455121ee9b0",
        "_uuid": "d629ff2d2480ee46fbb7e2d37f6b5fab8052498a",
        "execution": {
          "iopub.execute_input": "2021-01-14T22:02:37.911954Z",
          "iopub.status.busy": "2021-01-14T22:02:37.911435Z",
          "iopub.status.idle": "2021-01-14T22:02:37.920609Z",
          "shell.execute_reply": "2021-01-14T22:02:37.920140Z"
        },
        "papermill": {
          "duration": 0.090975,
          "end_time": "2021-01-14T22:02:37.920699",
          "exception": false,
          "start_time": "2021-01-14T22:02:37.829724",
          "status": "completed"
        },
        "tags": [],
        "trusted": true,
        "id": "t3t3PFAolpWe",
        "colab": {
          "base_uri": "https://localhost:8080/",
          "height": 289
        },
        "outputId": "c0b4b7e5-4354-4209-ef34-35d1f1163f76"
      },
      "source": [
        "df_train.head()"
      ],
      "execution_count": 12,
      "outputs": [
        {
          "output_type": "execute_result",
          "data": {
            "text/html": [
              "<div>\n",
              "<style scoped>\n",
              "    .dataframe tbody tr th:only-of-type {\n",
              "        vertical-align: middle;\n",
              "    }\n",
              "\n",
              "    .dataframe tbody tr th {\n",
              "        vertical-align: top;\n",
              "    }\n",
              "\n",
              "    .dataframe thead th {\n",
              "        text-align: right;\n",
              "    }\n",
              "</style>\n",
              "<table border=\"1\" class=\"dataframe\">\n",
              "  <thead>\n",
              "    <tr style=\"text-align: right;\">\n",
              "      <th></th>\n",
              "      <th>title</th>\n",
              "      <th>jobRegion</th>\n",
              "      <th>jobText</th>\n",
              "      <th>jobExperienceLevel</th>\n",
              "      <th>jobType</th>\n",
              "      <th>clientLocation</th>\n",
              "      <th>clientRating</th>\n",
              "      <th>approved</th>\n",
              "    </tr>\n",
              "  </thead>\n",
              "  <tbody>\n",
              "    <tr>\n",
              "      <th>647</th>\n",
              "      <td>Need to build an interactive app</td>\n",
              "      <td>Worldwide</td>\n",
              "      <td>Someone who understands how to build an intera...</td>\n",
              "      <td>Intermediate</td>\n",
              "      <td>Ongoing project</td>\n",
              "      <td>United States</td>\n",
              "      <td>0.00</td>\n",
              "      <td>1</td>\n",
              "    </tr>\n",
              "    <tr>\n",
              "      <th>2194</th>\n",
              "      <td>React Native Developer</td>\n",
              "      <td>Worldwide</td>\n",
              "      <td>I am looking to hire someone who has much expe...</td>\n",
              "      <td>Intermediate</td>\n",
              "      <td>Ongoing project</td>\n",
              "      <td>United States</td>\n",
              "      <td>4.99</td>\n",
              "      <td>0</td>\n",
              "    </tr>\n",
              "    <tr>\n",
              "      <th>2244</th>\n",
              "      <td>App developer needed for music collaboration a...</td>\n",
              "      <td>Worldwide</td>\n",
              "      <td>Im looking for a reliable skilled app develope...</td>\n",
              "      <td>Intermediate</td>\n",
              "      <td>One-time project</td>\n",
              "      <td>United States</td>\n",
              "      <td>0.00</td>\n",
              "      <td>1</td>\n",
              "    </tr>\n",
              "    <tr>\n",
              "      <th>4258</th>\n",
              "      <td>App for messengers</td>\n",
              "      <td>Worldwide</td>\n",
              "      <td>Looking to develope a cellphone App for messeg...</td>\n",
              "      <td>Intermediate</td>\n",
              "      <td>One-time project</td>\n",
              "      <td>Costa Rica</td>\n",
              "      <td>0.00</td>\n",
              "      <td>0</td>\n",
              "    </tr>\n",
              "    <tr>\n",
              "      <th>1164</th>\n",
              "      <td>Developer needed to build web app from ground up</td>\n",
              "      <td>Worldwide</td>\n",
              "      <td>We are looking for a developer to help us get ...</td>\n",
              "      <td>Expert</td>\n",
              "      <td>Ongoing project</td>\n",
              "      <td>United States</td>\n",
              "      <td>4.00</td>\n",
              "      <td>1</td>\n",
              "    </tr>\n",
              "  </tbody>\n",
              "</table>\n",
              "</div>"
            ],
            "text/plain": [
              "                                                  title  ... approved\n",
              "647                    Need to build an interactive app  ...        1\n",
              "2194                             React Native Developer  ...        0\n",
              "2244  App developer needed for music collaboration a...  ...        1\n",
              "4258                                 App for messengers  ...        0\n",
              "1164   Developer needed to build web app from ground up  ...        1\n",
              "\n",
              "[5 rows x 8 columns]"
            ]
          },
          "metadata": {
            "tags": []
          },
          "execution_count": 12
        }
      ]
    },
    {
      "cell_type": "markdown",
      "metadata": {
        "papermill": {
          "duration": 0.074198,
          "end_time": "2021-01-14T22:02:38.069043",
          "exception": false,
          "start_time": "2021-01-14T22:02:37.994845",
          "status": "completed"
        },
        "tags": [],
        "id": "61QmscR7lpWf"
      },
      "source": [
        "Checking category wise distribution of our test data."
      ]
    },
    {
      "cell_type": "code",
      "metadata": {
        "execution": {
          "iopub.execute_input": "2021-01-14T22:02:38.365831Z",
          "iopub.status.busy": "2021-01-14T22:02:38.361931Z",
          "iopub.status.idle": "2021-01-14T22:02:38.372233Z",
          "shell.execute_reply": "2021-01-14T22:02:38.373349Z"
        },
        "papermill": {
          "duration": 0.209486,
          "end_time": "2021-01-14T22:02:38.373514",
          "exception": false,
          "start_time": "2021-01-14T22:02:38.164028",
          "status": "completed"
        },
        "tags": [],
        "trusted": true,
        "id": "4JcxmbotlpWf",
        "colab": {
          "base_uri": "https://localhost:8080/"
        },
        "outputId": "ab920315-0258-4e7c-b547-38742032a107"
      },
      "source": [
        "#the unique value counts for the categories\n",
        "df_train.approved.value_counts()"
      ],
      "execution_count": 13,
      "outputs": [
        {
          "output_type": "execute_result",
          "data": {
            "text/plain": [
              "0    2097\n",
              "1    1410\n",
              "Name: approved, dtype: int64"
            ]
          },
          "metadata": {
            "tags": []
          },
          "execution_count": 13
        }
      ]
    },
    {
      "cell_type": "code",
      "metadata": {
        "execution": {
          "iopub.execute_input": "2021-01-14T22:02:38.660776Z",
          "iopub.status.busy": "2021-01-14T22:02:38.660014Z",
          "iopub.status.idle": "2021-01-14T22:02:38.677405Z",
          "shell.execute_reply": "2021-01-14T22:02:38.676448Z"
        },
        "papermill": {
          "duration": 0.16535,
          "end_time": "2021-01-14T22:02:38.678385",
          "exception": false,
          "start_time": "2021-01-14T22:02:38.513035",
          "status": "completed"
        },
        "tags": [],
        "trusted": true,
        "id": "4sKLBJZflpWg"
      },
      "source": [
        "X_train = df_train.jobText.tolist()\n",
        "X_test = df_test.jobText.tolist()\n",
        "y_train = df_train.approved.tolist()\n",
        "y_test = df_test.approved.tolist()"
      ],
      "execution_count": 14,
      "outputs": []
    },
    {
      "cell_type": "markdown",
      "metadata": {
        "papermill": {
          "duration": 0.074342,
          "end_time": "2021-01-14T22:02:38.846944",
          "exception": false,
          "start_time": "2021-01-14T22:02:38.772602",
          "status": "completed"
        },
        "tags": [],
        "id": "3dPv03hClpWg"
      },
      "source": [
        "Checking size of our train and test datasets:"
      ]
    },
    {
      "cell_type": "code",
      "metadata": {
        "execution": {
          "iopub.execute_input": "2021-01-14T22:02:39.004338Z",
          "iopub.status.busy": "2021-01-14T22:02:39.003104Z",
          "iopub.status.idle": "2021-01-14T22:02:39.006081Z",
          "shell.execute_reply": "2021-01-14T22:02:39.004826Z"
        },
        "papermill": {
          "duration": 0.08427,
          "end_time": "2021-01-14T22:02:39.006192",
          "exception": false,
          "start_time": "2021-01-14T22:02:38.921922",
          "status": "completed"
        },
        "tags": [],
        "trusted": true,
        "id": "ND4DlVHClpWg",
        "colab": {
          "base_uri": "https://localhost:8080/"
        },
        "outputId": "99158433-86c6-440d-b19a-ad0d30697978"
      },
      "source": [
        "print(len(X_train),len(X_test),len(y_train),len(y_test))"
      ],
      "execution_count": 15,
      "outputs": [
        {
          "output_type": "stream",
          "text": [
            "3507 877 3507 877\n"
          ],
          "name": "stdout"
        }
      ]
    },
    {
      "cell_type": "markdown",
      "metadata": {
        "papermill": {
          "duration": 0.074923,
          "end_time": "2021-01-14T22:02:39.171767",
          "exception": false,
          "start_time": "2021-01-14T22:02:39.096844",
          "status": "completed"
        },
        "tags": [],
        "id": "5jDk3BZ5lpWh"
      },
      "source": [
        "Our dataset has below categories/factors:"
      ]
    },
    {
      "cell_type": "code",
      "metadata": {
        "execution": {
          "iopub.execute_input": "2021-01-14T22:02:39.494924Z",
          "iopub.status.busy": "2021-01-14T22:02:39.494403Z",
          "iopub.status.idle": "2021-01-14T22:02:39.498431Z",
          "shell.execute_reply": "2021-01-14T22:02:39.497999Z"
        },
        "papermill": {
          "duration": 0.082988,
          "end_time": "2021-01-14T22:02:39.498521",
          "exception": false,
          "start_time": "2021-01-14T22:02:39.415533",
          "status": "completed"
        },
        "tags": [],
        "trusted": true,
        "id": "69xzWWNzlpWh"
      },
      "source": [
        "factors = [0,1]"
      ],
      "execution_count": 16,
      "outputs": []
    },
    {
      "cell_type": "markdown",
      "metadata": {
        "papermill": {
          "duration": 0.074875,
          "end_time": "2021-01-14T22:02:39.649788",
          "exception": false,
          "start_time": "2021-01-14T22:02:39.574913",
          "status": "completed"
        },
        "tags": [],
        "id": "dVq4-OrblpWh"
      },
      "source": [
        "Encoding our sentiment categories into numeric values:"
      ]
    },
    {
      "cell_type": "code",
      "metadata": {
        "execution": {
          "iopub.execute_input": "2021-01-14T22:02:39.805552Z",
          "iopub.status.busy": "2021-01-14T22:02:39.804851Z",
          "iopub.status.idle": "2021-01-14T22:02:39.807739Z",
          "shell.execute_reply": "2021-01-14T22:02:39.807322Z"
        },
        "papermill": {
          "duration": 0.082465,
          "end_time": "2021-01-14T22:02:39.807825",
          "exception": false,
          "start_time": "2021-01-14T22:02:39.725360",
          "status": "completed"
        },
        "tags": [],
        "trusted": true,
        "id": "tsgozp8flpWh"
      },
      "source": [
        "encoding = { '0': 0,\n",
        "    '1': 1\n",
        "}"
      ],
      "execution_count": 17,
      "outputs": []
    },
    {
      "cell_type": "code",
      "metadata": {
        "execution": {
          "iopub.execute_input": "2021-01-14T22:02:40.003221Z",
          "iopub.status.busy": "2021-01-14T22:02:39.997982Z",
          "iopub.status.idle": "2021-01-14T22:02:40.007373Z",
          "shell.execute_reply": "2021-01-14T22:02:40.006917Z"
        },
        "papermill": {
          "duration": 0.124393,
          "end_time": "2021-01-14T22:02:40.007464",
          "exception": false,
          "start_time": "2021-01-14T22:02:39.883071",
          "status": "completed"
        },
        "tags": [],
        "trusted": true,
        "id": "O7zZ8IPDlpWi"
      },
      "source": [
        "y_train = [encoding[key] for key in y_train]\n",
        "y_test = [encoding[key] for key in y_test]"
      ],
      "execution_count": 18,
      "outputs": []
    },
    {
      "cell_type": "markdown",
      "metadata": {
        "papermill": {
          "duration": 0.07594,
          "end_time": "2021-01-14T22:02:40.160801",
          "exception": false,
          "start_time": "2021-01-14T22:02:40.084861",
          "status": "completed"
        },
        "tags": [],
        "id": "bJkiwTuylpWi"
      },
      "source": [
        "# Building Model using Transformer"
      ]
    },
    {
      "cell_type": "markdown",
      "metadata": {
        "papermill": {
          "duration": 0.093469,
          "end_time": "2021-01-14T22:02:40.330107",
          "exception": false,
          "start_time": "2021-01-14T22:02:40.236638",
          "status": "completed"
        },
        "tags": [],
        "id": "oQ7NcF2IlpWi"
      },
      "source": [
        "We are using bert-base-uncased model. You can choose any other model. *maxlen of tokenization as 100 (512 it's max for BERT).*"
      ]
    },
    {
      "cell_type": "code",
      "metadata": {
        "execution": {
          "iopub.execute_input": "2021-01-14T22:02:40.485608Z",
          "iopub.status.busy": "2021-01-14T22:02:40.484860Z",
          "iopub.status.idle": "2021-01-14T22:02:41.271808Z",
          "shell.execute_reply": "2021-01-14T22:02:41.269176Z"
        },
        "papermill": {
          "duration": 0.866846,
          "end_time": "2021-01-14T22:02:41.271971",
          "exception": false,
          "start_time": "2021-01-14T22:02:40.405125",
          "status": "completed"
        },
        "tags": [],
        "trusted": true,
        "id": "eu2r-rAalpWi",
        "colab": {
          "base_uri": "https://localhost:8080/",
          "height": 66,
          "referenced_widgets": [
            "23b441ecd84946d29bc7c826dc05dc22",
            "fd928425fec84c538503c600d332f612",
            "22137a145f7f411392979f10e7221315",
            "5c6c74a7a7944e5395369a486167fdd2",
            "e96009ecfebb4a3a8d03fa2883ffbeed",
            "9478a2dd9c9349b2ad5a7ad2d2204273",
            "a1ae2ddfd9b7413fabe3e6ba2ec908db",
            "c47f368768c14f558e31a4c6b3df3ae4"
          ]
        },
        "outputId": "8ed30069-8cd0-40bf-b9bd-230ac34b82e7"
      },
      "source": [
        "model_arch ='bert-base-multilingual-uncased'\n",
        "MAXLEN = 100\n",
        "trans = text.Transformer(model_arch, maxlen=MAXLEN, class_names= factors)\n"
      ],
      "execution_count": 19,
      "outputs": [
        {
          "output_type": "display_data",
          "data": {
            "application/vnd.jupyter.widget-view+json": {
              "model_id": "23b441ecd84946d29bc7c826dc05dc22",
              "version_minor": 0,
              "version_major": 2
            },
            "text/plain": [
              "HBox(children=(FloatProgress(value=0.0, description='Downloading', max=625.0, style=ProgressStyle(description_…"
            ]
          },
          "metadata": {
            "tags": []
          }
        },
        {
          "output_type": "stream",
          "text": [
            "\n"
          ],
          "name": "stdout"
        }
      ]
    },
    {
      "cell_type": "markdown",
      "metadata": {
        "papermill": {
          "duration": 0.076427,
          "end_time": "2021-01-14T22:02:41.426794",
          "exception": false,
          "start_time": "2021-01-14T22:02:41.350367",
          "status": "completed"
        },
        "tags": [],
        "id": "boYwyw0olpWj"
      },
      "source": [
        "Let's preprocess out test and train data set."
      ]
    },
    {
      "cell_type": "code",
      "metadata": {
        "execution": {
          "iopub.execute_input": "2021-01-14T22:02:41.671534Z",
          "iopub.status.busy": "2021-01-14T22:02:41.652643Z",
          "iopub.status.idle": "2021-01-14T22:03:35.950268Z",
          "shell.execute_reply": "2021-01-14T22:03:35.949759Z"
        },
        "papermill": {
          "duration": 54.438273,
          "end_time": "2021-01-14T22:03:35.950381",
          "exception": false,
          "start_time": "2021-01-14T22:02:41.512108",
          "status": "completed"
        },
        "tags": [],
        "trusted": true,
        "id": "stloSJAClpWj",
        "colab": {
          "base_uri": "https://localhost:8080/",
          "height": 336,
          "referenced_widgets": [
            "0811e7fdafd8403b86993d09447605cd",
            "ffde7961e1f746e3bbe478236c9cc244",
            "f27c3d806e3044ac9bd03e80f04c164d",
            "902d315082d747ba8f4fb6724b7272c8",
            "110c8af467c242349e2acbd21a90b453",
            "9913ddf502514414933b4c572fc9c065",
            "db0b5e14581540a4a3d47e0559ff748a",
            "470185ece93d491dad8bc2f9ed5815d3",
            "82d3af75e7c048458c96fbe911cc3ded",
            "56d53e30f6654fffa9c4a9c6c96078c7",
            "eaa9e0a63e32444192ecdc811275bfdd",
            "c05c37c15e194bf7b323ae34f005d238",
            "f71a946645354cea980915c90d0e9cf9",
            "85365b37fa644841a4c6aa59bc3e40da",
            "d7e6b15d9ec34478a8fab1fe29f82eb3",
            "93c0eb3004a041149a2f0f54c898274e"
          ]
        },
        "outputId": "b36ba279-a158-427a-9c32-2c6b2e28a2de"
      },
      "source": [
        "train_data = trans.preprocess_train(X_train,y_train)\n",
        "test_data = trans.preprocess_test(X_test,y_test)"
      ],
      "execution_count": 20,
      "outputs": [
        {
          "output_type": "stream",
          "text": [
            "preprocessing train...\n",
            "language: en\n",
            "train sequence lengths:\n",
            "\tmean : 93\n",
            "\t95percentile : 281\n",
            "\t99percentile : 530\n"
          ],
          "name": "stdout"
        },
        {
          "output_type": "display_data",
          "data": {
            "application/vnd.jupyter.widget-view+json": {
              "model_id": "0811e7fdafd8403b86993d09447605cd",
              "version_minor": 0,
              "version_major": 2
            },
            "text/plain": [
              "HBox(children=(FloatProgress(value=0.0, description='Downloading', max=871891.0, style=ProgressStyle(descripti…"
            ]
          },
          "metadata": {
            "tags": []
          }
        },
        {
          "output_type": "stream",
          "text": [
            "\n"
          ],
          "name": "stdout"
        },
        {
          "output_type": "display_data",
          "data": {
            "application/vnd.jupyter.widget-view+json": {
              "model_id": "82d3af75e7c048458c96fbe911cc3ded",
              "version_minor": 0,
              "version_major": 2
            },
            "text/plain": [
              "HBox(children=(FloatProgress(value=0.0, description='Downloading', max=1715180.0, style=ProgressStyle(descript…"
            ]
          },
          "metadata": {
            "tags": []
          }
        },
        {
          "output_type": "stream",
          "text": [
            "\n"
          ],
          "name": "stdout"
        },
        {
          "output_type": "display_data",
          "data": {
            "text/html": [
              ""
            ],
            "text/plain": [
              "<IPython.core.display.HTML object>"
            ]
          },
          "metadata": {
            "tags": []
          }
        },
        {
          "output_type": "stream",
          "text": [
            "Is Multi-Label? False\n",
            "preprocessing test...\n",
            "language: en\n",
            "test sequence lengths:\n",
            "\tmean : 97\n",
            "\t95percentile : 293\n",
            "\t99percentile : 472\n"
          ],
          "name": "stdout"
        },
        {
          "output_type": "display_data",
          "data": {
            "text/html": [
              ""
            ],
            "text/plain": [
              "<IPython.core.display.HTML object>"
            ]
          },
          "metadata": {
            "tags": []
          }
        }
      ]
    },
    {
      "cell_type": "code",
      "metadata": {
        "execution": {
          "iopub.execute_input": "2021-01-14T22:03:36.116069Z",
          "iopub.status.busy": "2021-01-14T22:03:36.115296Z",
          "iopub.status.idle": "2021-01-14T22:04:11.623022Z",
          "shell.execute_reply": "2021-01-14T22:04:11.621824Z"
        },
        "papermill": {
          "duration": 35.59164,
          "end_time": "2021-01-14T22:04:11.623146",
          "exception": false,
          "start_time": "2021-01-14T22:03:36.031506",
          "status": "completed"
        },
        "tags": [],
        "trusted": true,
        "id": "e5XL1uzKlpWj",
        "colab": {
          "base_uri": "https://localhost:8080/",
          "height": 66,
          "referenced_widgets": [
            "136f0ee3d4ca478e96001017c8c43a4c",
            "e63b86f45f0348f8a39e595d4e0c8c4f",
            "4815ffc1c29a43ca9f422d7fd8565a4d",
            "d8d7689de1cb432bb8a623dce69ba4f3",
            "6e6170e3444f437ea3b904c9fec3e97c",
            "16cc7f5eb7b246f6a9b94a68a85d3501",
            "5df614897f464bd89d14f72809cbca6a",
            "ff29ca22ed544989a9f9da7d4c1ee423"
          ]
        },
        "outputId": "c93eba30-bbc3-48e9-ac50-cbe6f43ed444"
      },
      "source": [
        "model = trans.get_classifier()"
      ],
      "execution_count": 21,
      "outputs": [
        {
          "output_type": "display_data",
          "data": {
            "application/vnd.jupyter.widget-view+json": {
              "model_id": "136f0ee3d4ca478e96001017c8c43a4c",
              "version_minor": 0,
              "version_major": 2
            },
            "text/plain": [
              "HBox(children=(FloatProgress(value=0.0, description='Downloading', max=999358484.0, style=ProgressStyle(descri…"
            ]
          },
          "metadata": {
            "tags": []
          }
        },
        {
          "output_type": "stream",
          "text": [
            "\n"
          ],
          "name": "stdout"
        }
      ]
    },
    {
      "cell_type": "code",
      "metadata": {
        "execution": {
          "iopub.execute_input": "2021-01-14T22:04:11.801498Z",
          "iopub.status.busy": "2021-01-14T22:04:11.800580Z",
          "iopub.status.idle": "2021-01-14T22:04:12.891516Z",
          "shell.execute_reply": "2021-01-14T22:04:12.890778Z"
        },
        "papermill": {
          "duration": 1.18267,
          "end_time": "2021-01-14T22:04:12.891624",
          "exception": false,
          "start_time": "2021-01-14T22:04:11.708954",
          "status": "completed"
        },
        "tags": [],
        "trusted": true,
        "id": "BVo9OCHIlpWj"
      },
      "source": [
        "learner = ktrain.get_learner(model, train_data=train_data, val_data=test_data, batch_size=16)"
      ],
      "execution_count": 25,
      "outputs": []
    },
    {
      "cell_type": "markdown",
      "metadata": {
        "papermill": {
          "duration": 0.084328,
          "end_time": "2021-01-14T22:04:13.059866",
          "exception": false,
          "start_time": "2021-01-14T22:04:12.975538",
          "status": "completed"
        },
        "tags": [],
        "id": "e7Z1UWNRlpWk"
      },
      "source": [
        "Finding the best learning rate:"
      ]
    },
    {
      "cell_type": "markdown",
      "metadata": {
        "papermill": {
          "duration": 0.08097,
          "end_time": "2021-01-14T22:04:13.221908",
          "exception": false,
          "start_time": "2021-01-14T22:04:13.140938",
          "status": "completed"
        },
        "tags": [],
        "id": "kSzQJ3f0lpWk"
      },
      "source": [
        ""
      ]
    },
    {
      "cell_type": "code",
      "metadata": {
        "execution": {
          "iopub.execute_input": "2021-01-14T22:04:13.390478Z",
          "iopub.status.busy": "2021-01-14T22:04:13.388472Z",
          "iopub.status.idle": "2021-01-14T22:04:13.391096Z",
          "shell.execute_reply": "2021-01-14T22:04:13.391566Z"
        },
        "papermill": {
          "duration": 0.088384,
          "end_time": "2021-01-14T22:04:13.391679",
          "exception": false,
          "start_time": "2021-01-14T22:04:13.303295",
          "status": "completed"
        },
        "tags": [],
        "trusted": true,
        "id": "YcIGHwMTlpWk"
      },
      "source": [
        "#learner.lr_find(show_plot=True, max_epochs=4)"
      ],
      "execution_count": 26,
      "outputs": []
    },
    {
      "cell_type": "code",
      "metadata": {
        "execution": {
          "iopub.execute_input": "2021-01-14T22:04:13.558564Z",
          "iopub.status.busy": "2021-01-14T22:04:13.557744Z",
          "iopub.status.idle": "2021-01-14T22:38:23.121122Z",
          "shell.execute_reply": "2021-01-14T22:38:23.120456Z"
        },
        "papermill": {
          "duration": 2049.6485,
          "end_time": "2021-01-14T22:38:23.121284",
          "exception": false,
          "start_time": "2021-01-14T22:04:13.472784",
          "status": "completed"
        },
        "tags": [],
        "trusted": true,
        "id": "R0dPUd9elpWk",
        "colab": {
          "base_uri": "https://localhost:8080/"
        },
        "outputId": "fff19861-7297-4d53-b291-0d8d297eee84"
      },
      "source": [
        "learner.fit_onecycle(1e-4, 5)\n",
        "#learner.autofit(0.0001,10)"
      ],
      "execution_count": null,
      "outputs": [
        {
          "output_type": "stream",
          "text": [
            "\n",
            "\n",
            "begin training using onecycle policy with max lr of 0.0001...\n",
            "Epoch 1/5\n",
            "220/220 [==============================] - 4297s 20s/step - loss: 0.6713 - accuracy: 0.5991 - val_loss: 0.6962 - val_accuracy: 0.5610\n",
            "Epoch 2/5\n",
            "220/220 [==============================] - 4289s 19s/step - loss: 0.6754 - accuracy: 0.5960 - val_loss: 0.7056 - val_accuracy: 0.5610\n",
            "Epoch 3/5\n",
            " 47/220 [=====>........................] - ETA: 53:04 - loss: 0.6879 - accuracy: 0.5652"
          ],
          "name": "stdout"
        }
      ]
    },
    {
      "cell_type": "markdown",
      "metadata": {
        "papermill": {
          "duration": 1.305536,
          "end_time": "2021-01-14T22:38:26.014505",
          "exception": false,
          "start_time": "2021-01-14T22:38:24.708969",
          "status": "completed"
        },
        "tags": [],
        "id": "_jByQbtflpWk"
      },
      "source": [
        "**Confusion Matrix:**"
      ]
    },
    {
      "cell_type": "code",
      "metadata": {
        "id": "u32H37dr4fTT"
      },
      "source": [
        "learner.model.summary()"
      ],
      "execution_count": null,
      "outputs": []
    },
    {
      "cell_type": "code",
      "metadata": {
        "execution": {
          "iopub.execute_input": "2021-01-14T22:38:28.603782Z",
          "iopub.status.busy": "2021-01-14T22:38:28.601529Z",
          "iopub.status.idle": "2021-01-14T22:43:24.269637Z",
          "shell.execute_reply": "2021-01-14T22:43:24.268762Z"
        },
        "papermill": {
          "duration": 296.955894,
          "end_time": "2021-01-14T22:43:24.269807",
          "exception": false,
          "start_time": "2021-01-14T22:38:27.313913",
          "status": "completed"
        },
        "tags": [],
        "trusted": true,
        "id": "MlHqz48glpWl"
      },
      "source": [
        "learner.validate(val_data=test_data, class_names=factors)"
      ],
      "execution_count": null,
      "outputs": []
    },
    {
      "cell_type": "markdown",
      "metadata": {
        "papermill": {
          "duration": 1.264132,
          "end_time": "2021-01-14T22:43:26.824679",
          "exception": false,
          "start_time": "2021-01-14T22:43:25.560547",
          "status": "completed"
        },
        "tags": [],
        "id": "fxjMxaj9lpWl"
      },
      "source": [
        "**top 5 data points not performing good:**"
      ]
    },
    {
      "cell_type": "code",
      "metadata": {
        "execution": {
          "iopub.execute_input": "2021-01-14T22:43:29.935464Z",
          "iopub.status.busy": "2021-01-14T22:43:29.933819Z",
          "iopub.status.idle": "2021-01-14T22:48:22.481599Z",
          "shell.execute_reply": "2021-01-14T22:48:22.482532Z"
        },
        "papermill": {
          "duration": 293.92028,
          "end_time": "2021-01-14T22:48:22.482736",
          "exception": false,
          "start_time": "2021-01-14T22:43:28.562456",
          "status": "completed"
        },
        "tags": [],
        "trusted": true,
        "id": "n-9-n4ZglpWl"
      },
      "source": [
        "learner.view_top_losses(n=5, preproc=trans)"
      ],
      "execution_count": null,
      "outputs": []
    },
    {
      "cell_type": "code",
      "metadata": {
        "execution": {
          "iopub.execute_input": "2021-01-14T22:48:25.018188Z",
          "iopub.status.busy": "2021-01-14T22:48:25.017426Z",
          "iopub.status.idle": "2021-01-14T22:48:25.020547Z",
          "shell.execute_reply": "2021-01-14T22:48:25.020959Z"
        },
        "papermill": {
          "duration": 1.26837,
          "end_time": "2021-01-14T22:48:25.021072",
          "exception": false,
          "start_time": "2021-01-14T22:48:23.752702",
          "status": "completed"
        },
        "tags": [],
        "trusted": true,
        "id": "yYMcDpSxlpWl"
      },
      "source": [
        "#X_test[1928]"
      ],
      "execution_count": null,
      "outputs": []
    },
    {
      "cell_type": "markdown",
      "metadata": {
        "papermill": {
          "duration": 1.283945,
          "end_time": "2021-01-14T22:48:27.567917",
          "exception": false,
          "start_time": "2021-01-14T22:48:26.283972",
          "status": "completed"
        },
        "tags": [],
        "id": "7gg3pCqalpWl"
      },
      "source": [
        "Above data our model is predicting as sadness but label is mentioned as fear."
      ]
    },
    {
      "cell_type": "markdown",
      "metadata": {
        "papermill": {
          "duration": 1.26533,
          "end_time": "2021-01-14T22:48:30.395706",
          "exception": false,
          "start_time": "2021-01-14T22:48:29.130376",
          "status": "completed"
        },
        "tags": [],
        "id": "7aWIpLkalpWm"
      },
      "source": [
        "# Predict Data:"
      ]
    },
    {
      "cell_type": "code",
      "metadata": {
        "execution": {
          "iopub.execute_input": "2021-01-14T22:48:32.996023Z",
          "iopub.status.busy": "2021-01-14T22:48:32.995278Z",
          "iopub.status.idle": "2021-01-14T22:48:32.998119Z",
          "shell.execute_reply": "2021-01-14T22:48:32.997712Z"
        },
        "papermill": {
          "duration": 1.28935,
          "end_time": "2021-01-14T22:48:32.998226",
          "exception": false,
          "start_time": "2021-01-14T22:48:31.708876",
          "status": "completed"
        },
        "tags": [],
        "trusted": true,
        "id": "wQzKKwNmlpWm"
      },
      "source": [
        "predictor = ktrain.get_predictor(learner.model, preproc=trans)"
      ],
      "execution_count": null,
      "outputs": []
    },
    {
      "cell_type": "code",
      "metadata": {
        "execution": {
          "iopub.execute_input": "2021-01-14T22:48:35.565966Z",
          "iopub.status.busy": "2021-01-14T22:48:35.565432Z",
          "iopub.status.idle": "2021-01-14T22:48:35.569093Z",
          "shell.execute_reply": "2021-01-14T22:48:35.569483Z"
        },
        "papermill": {
          "duration": 1.310065,
          "end_time": "2021-01-14T22:48:35.569596",
          "exception": false,
          "start_time": "2021-01-14T22:48:34.259531",
          "status": "completed"
        },
        "tags": [],
        "trusted": true,
        "id": "71elGHKSlpWm"
      },
      "source": [
        "inp = 'bad work vvv'"
      ],
      "execution_count": null,
      "outputs": []
    },
    {
      "cell_type": "code",
      "metadata": {
        "execution": {
          "iopub.execute_input": "2021-01-14T22:48:38.111448Z",
          "iopub.status.busy": "2021-01-14T22:48:38.110608Z",
          "iopub.status.idle": "2021-01-14T22:48:38.197098Z",
          "shell.execute_reply": "2021-01-14T22:48:38.196675Z"
        },
        "papermill": {
          "duration": 1.352466,
          "end_time": "2021-01-14T22:48:38.197210",
          "exception": false,
          "start_time": "2021-01-14T22:48:36.844744",
          "status": "completed"
        },
        "tags": [],
        "trusted": true,
        "id": "dfh9562xlpWm"
      },
      "source": [
        "predictor.predict(inp)"
      ],
      "execution_count": null,
      "outputs": []
    },
    {
      "cell_type": "code",
      "metadata": {
        "id": "K1_KlrZG1zPZ"
      },
      "source": [
        "predictor.explain(inp)"
      ],
      "execution_count": null,
      "outputs": []
    }
  ]
}